{
 "cells": [
  {
   "cell_type": "markdown",
   "metadata": {},
   "source": [
    "___\n",
    "\n",
    "<a href='http://www.pieriandata.com'><img src='../Pierian_Data_Logo.png'/></a>\n",
    "___\n",
    "<center><em>Copyright Pierian Data</em></center>\n",
    "<center><em>For more information, visit us at <a href='http://www.pieriandata.com'>www.pieriandata.com</a></em></center>\n",
    "\n",
    "# RNN Exercise"
   ]
  },
  {
   "cell_type": "markdown",
   "metadata": {},
   "source": [
    "**TASK: IMPORT THE BASIC LIBRARIES YOU THINK YOU WILL USE**"
   ]
  },
  {
   "cell_type": "code",
   "execution_count": 1,
   "metadata": {},
   "outputs": [],
   "source": [
    "import numpy as np\n",
    "import pandas as pd\n",
    "import matplotlib.pyplot as plt\n",
    "%matplotlib inline\n",
    "import seaborn as sns"
   ]
  },
  {
   "cell_type": "markdown",
   "metadata": {},
   "source": [
    "## Data\n",
    "\n",
    "Info about this data set: https://fred.stlouisfed.org/series/IPN31152N\n",
    "\n",
    "\n",
    "Units:  Index 2012=100, Not Seasonally Adjusted\n",
    "\n",
    "Frequency:  Monthly\n",
    "\n",
    "The industrial production (IP) index measures the real output of all relevant establishments located in the United States, regardless of their ownership, but not those located in U.S. territories.\n",
    "\n",
    "NAICS = 31152\n",
    "\n",
    "Source Code: IP.N31152.N\n",
    "\n",
    "Suggested Citation:\n",
    "Board of Governors of the Federal Reserve System (US), Industrial Production: Nondurable Goods: Ice cream and frozen dessert [IPN31152N], retrieved from FRED, Federal Reserve Bank of St. Louis; https://fred.stlouisfed.org/series/IPN31152N, November 16, 2019.\n",
    "\n",
    "# Project Tasks\n",
    "\n",
    "**TASK: Read in the data set \"Frozen_Dessert_Production.csv\" from the Data folder. Figure out how to set the date to a datetime index columns**"
   ]
  },
  {
   "cell_type": "code",
   "execution_count": 2,
   "metadata": {},
   "outputs": [],
   "source": [
    "# CODE HERE"
   ]
  },
  {
   "cell_type": "code",
   "execution_count": 2,
   "metadata": {},
   "outputs": [],
   "source": [
    "df = pd.read_csv('../DATA/Frozen_Dessert_Production.csv')"
   ]
  },
  {
   "cell_type": "code",
   "execution_count": 3,
   "metadata": {},
   "outputs": [
    {
     "data": {
      "text/html": [
       "<div>\n",
       "<style scoped>\n",
       "    .dataframe tbody tr th:only-of-type {\n",
       "        vertical-align: middle;\n",
       "    }\n",
       "\n",
       "    .dataframe tbody tr th {\n",
       "        vertical-align: top;\n",
       "    }\n",
       "\n",
       "    .dataframe thead th {\n",
       "        text-align: right;\n",
       "    }\n",
       "</style>\n",
       "<table border=\"1\" class=\"dataframe\">\n",
       "  <thead>\n",
       "    <tr style=\"text-align: right;\">\n",
       "      <th></th>\n",
       "      <th>DATE</th>\n",
       "      <th>IPN31152N</th>\n",
       "    </tr>\n",
       "  </thead>\n",
       "  <tbody>\n",
       "    <tr>\n",
       "      <th>0</th>\n",
       "      <td>1972-01-01</td>\n",
       "      <td>59.9622</td>\n",
       "    </tr>\n",
       "    <tr>\n",
       "      <th>1</th>\n",
       "      <td>1972-02-01</td>\n",
       "      <td>67.0605</td>\n",
       "    </tr>\n",
       "    <tr>\n",
       "      <th>2</th>\n",
       "      <td>1972-03-01</td>\n",
       "      <td>74.2350</td>\n",
       "    </tr>\n",
       "    <tr>\n",
       "      <th>3</th>\n",
       "      <td>1972-04-01</td>\n",
       "      <td>78.1120</td>\n",
       "    </tr>\n",
       "    <tr>\n",
       "      <th>4</th>\n",
       "      <td>1972-05-01</td>\n",
       "      <td>84.7636</td>\n",
       "    </tr>\n",
       "    <tr>\n",
       "      <th>...</th>\n",
       "      <td>...</td>\n",
       "      <td>...</td>\n",
       "    </tr>\n",
       "    <tr>\n",
       "      <th>568</th>\n",
       "      <td>2019-05-01</td>\n",
       "      <td>114.5613</td>\n",
       "    </tr>\n",
       "    <tr>\n",
       "      <th>569</th>\n",
       "      <td>2019-06-01</td>\n",
       "      <td>124.9605</td>\n",
       "    </tr>\n",
       "    <tr>\n",
       "      <th>570</th>\n",
       "      <td>2019-07-01</td>\n",
       "      <td>110.2632</td>\n",
       "    </tr>\n",
       "    <tr>\n",
       "      <th>571</th>\n",
       "      <td>2019-08-01</td>\n",
       "      <td>102.6085</td>\n",
       "    </tr>\n",
       "    <tr>\n",
       "      <th>572</th>\n",
       "      <td>2019-09-01</td>\n",
       "      <td>101.5866</td>\n",
       "    </tr>\n",
       "  </tbody>\n",
       "</table>\n",
       "<p>573 rows × 2 columns</p>\n",
       "</div>"
      ],
      "text/plain": [
       "           DATE  IPN31152N\n",
       "0    1972-01-01    59.9622\n",
       "1    1972-02-01    67.0605\n",
       "2    1972-03-01    74.2350\n",
       "3    1972-04-01    78.1120\n",
       "4    1972-05-01    84.7636\n",
       "..          ...        ...\n",
       "568  2019-05-01   114.5613\n",
       "569  2019-06-01   124.9605\n",
       "570  2019-07-01   110.2632\n",
       "571  2019-08-01   102.6085\n",
       "572  2019-09-01   101.5866\n",
       "\n",
       "[573 rows x 2 columns]"
      ]
     },
     "execution_count": 3,
     "metadata": {},
     "output_type": "execute_result"
    }
   ],
   "source": [
    "df"
   ]
  },
  {
   "cell_type": "code",
   "execution_count": 4,
   "metadata": {},
   "outputs": [
    {
     "data": {
      "text/html": [
       "<div>\n",
       "<style scoped>\n",
       "    .dataframe tbody tr th:only-of-type {\n",
       "        vertical-align: middle;\n",
       "    }\n",
       "\n",
       "    .dataframe tbody tr th {\n",
       "        vertical-align: top;\n",
       "    }\n",
       "\n",
       "    .dataframe thead th {\n",
       "        text-align: right;\n",
       "    }\n",
       "</style>\n",
       "<table border=\"1\" class=\"dataframe\">\n",
       "  <thead>\n",
       "    <tr style=\"text-align: right;\">\n",
       "      <th></th>\n",
       "      <th>IPN31152N</th>\n",
       "    </tr>\n",
       "    <tr>\n",
       "      <th>DATE</th>\n",
       "      <th></th>\n",
       "    </tr>\n",
       "  </thead>\n",
       "  <tbody>\n",
       "    <tr>\n",
       "      <th>1972-01-01</th>\n",
       "      <td>59.9622</td>\n",
       "    </tr>\n",
       "    <tr>\n",
       "      <th>1972-02-01</th>\n",
       "      <td>67.0605</td>\n",
       "    </tr>\n",
       "    <tr>\n",
       "      <th>1972-03-01</th>\n",
       "      <td>74.2350</td>\n",
       "    </tr>\n",
       "    <tr>\n",
       "      <th>1972-04-01</th>\n",
       "      <td>78.1120</td>\n",
       "    </tr>\n",
       "    <tr>\n",
       "      <th>1972-05-01</th>\n",
       "      <td>84.7636</td>\n",
       "    </tr>\n",
       "  </tbody>\n",
       "</table>\n",
       "</div>"
      ],
      "text/plain": [
       "            IPN31152N\n",
       "DATE                 \n",
       "1972-01-01    59.9622\n",
       "1972-02-01    67.0605\n",
       "1972-03-01    74.2350\n",
       "1972-04-01    78.1120\n",
       "1972-05-01    84.7636"
      ]
     },
     "execution_count": 4,
     "metadata": {},
     "output_type": "execute_result"
    }
   ],
   "source": []
  },
  {
   "cell_type": "markdown",
   "metadata": {},
   "source": [
    "**Task: Change the column name to Production**"
   ]
  },
  {
   "cell_type": "code",
   "execution_count": 5,
   "metadata": {},
   "outputs": [],
   "source": [
    "#CODE HERE"
   ]
  },
  {
   "cell_type": "code",
   "execution_count": 4,
   "metadata": {},
   "outputs": [],
   "source": [
    "df = pd.read_csv('../DATA/Frozen_Dessert_Production.csv',parse_dates=True,index_col='DATE',co)"
   ]
  },
  {
   "cell_type": "code",
   "execution_count": 6,
   "metadata": {},
   "outputs": [],
   "source": [
    "df = df.rename(columns={\"IPN31152N\":\"Production\"})"
   ]
  },
  {
   "cell_type": "code",
   "execution_count": 7,
   "metadata": {},
   "outputs": [
    {
     "data": {
      "text/html": [
       "<div>\n",
       "<style scoped>\n",
       "    .dataframe tbody tr th:only-of-type {\n",
       "        vertical-align: middle;\n",
       "    }\n",
       "\n",
       "    .dataframe tbody tr th {\n",
       "        vertical-align: top;\n",
       "    }\n",
       "\n",
       "    .dataframe thead th {\n",
       "        text-align: right;\n",
       "    }\n",
       "</style>\n",
       "<table border=\"1\" class=\"dataframe\">\n",
       "  <thead>\n",
       "    <tr style=\"text-align: right;\">\n",
       "      <th></th>\n",
       "      <th>Production</th>\n",
       "    </tr>\n",
       "    <tr>\n",
       "      <th>DATE</th>\n",
       "      <th></th>\n",
       "    </tr>\n",
       "  </thead>\n",
       "  <tbody>\n",
       "    <tr>\n",
       "      <th>1972-01-01</th>\n",
       "      <td>59.9622</td>\n",
       "    </tr>\n",
       "    <tr>\n",
       "      <th>1972-02-01</th>\n",
       "      <td>67.0605</td>\n",
       "    </tr>\n",
       "    <tr>\n",
       "      <th>1972-03-01</th>\n",
       "      <td>74.2350</td>\n",
       "    </tr>\n",
       "    <tr>\n",
       "      <th>1972-04-01</th>\n",
       "      <td>78.1120</td>\n",
       "    </tr>\n",
       "    <tr>\n",
       "      <th>1972-05-01</th>\n",
       "      <td>84.7636</td>\n",
       "    </tr>\n",
       "    <tr>\n",
       "      <th>...</th>\n",
       "      <td>...</td>\n",
       "    </tr>\n",
       "    <tr>\n",
       "      <th>2019-05-01</th>\n",
       "      <td>114.5613</td>\n",
       "    </tr>\n",
       "    <tr>\n",
       "      <th>2019-06-01</th>\n",
       "      <td>124.9605</td>\n",
       "    </tr>\n",
       "    <tr>\n",
       "      <th>2019-07-01</th>\n",
       "      <td>110.2632</td>\n",
       "    </tr>\n",
       "    <tr>\n",
       "      <th>2019-08-01</th>\n",
       "      <td>102.6085</td>\n",
       "    </tr>\n",
       "    <tr>\n",
       "      <th>2019-09-01</th>\n",
       "      <td>101.5866</td>\n",
       "    </tr>\n",
       "  </tbody>\n",
       "</table>\n",
       "<p>573 rows × 1 columns</p>\n",
       "</div>"
      ],
      "text/plain": [
       "            Production\n",
       "DATE                  \n",
       "1972-01-01     59.9622\n",
       "1972-02-01     67.0605\n",
       "1972-03-01     74.2350\n",
       "1972-04-01     78.1120\n",
       "1972-05-01     84.7636\n",
       "...                ...\n",
       "2019-05-01    114.5613\n",
       "2019-06-01    124.9605\n",
       "2019-07-01    110.2632\n",
       "2019-08-01    102.6085\n",
       "2019-09-01    101.5866\n",
       "\n",
       "[573 rows x 1 columns]"
      ]
     },
     "execution_count": 7,
     "metadata": {},
     "output_type": "execute_result"
    }
   ],
   "source": [
    "df"
   ]
  },
  {
   "cell_type": "code",
   "execution_count": 7,
   "metadata": {},
   "outputs": [
    {
     "data": {
      "text/html": [
       "<div>\n",
       "<style scoped>\n",
       "    .dataframe tbody tr th:only-of-type {\n",
       "        vertical-align: middle;\n",
       "    }\n",
       "\n",
       "    .dataframe tbody tr th {\n",
       "        vertical-align: top;\n",
       "    }\n",
       "\n",
       "    .dataframe thead th {\n",
       "        text-align: right;\n",
       "    }\n",
       "</style>\n",
       "<table border=\"1\" class=\"dataframe\">\n",
       "  <thead>\n",
       "    <tr style=\"text-align: right;\">\n",
       "      <th></th>\n",
       "      <th>Production</th>\n",
       "    </tr>\n",
       "    <tr>\n",
       "      <th>DATE</th>\n",
       "      <th></th>\n",
       "    </tr>\n",
       "  </thead>\n",
       "  <tbody>\n",
       "    <tr>\n",
       "      <th>1972-01-01</th>\n",
       "      <td>59.9622</td>\n",
       "    </tr>\n",
       "    <tr>\n",
       "      <th>1972-02-01</th>\n",
       "      <td>67.0605</td>\n",
       "    </tr>\n",
       "    <tr>\n",
       "      <th>1972-03-01</th>\n",
       "      <td>74.2350</td>\n",
       "    </tr>\n",
       "    <tr>\n",
       "      <th>1972-04-01</th>\n",
       "      <td>78.1120</td>\n",
       "    </tr>\n",
       "    <tr>\n",
       "      <th>1972-05-01</th>\n",
       "      <td>84.7636</td>\n",
       "    </tr>\n",
       "  </tbody>\n",
       "</table>\n",
       "</div>"
      ],
      "text/plain": [
       "            Production\n",
       "DATE                  \n",
       "1972-01-01     59.9622\n",
       "1972-02-01     67.0605\n",
       "1972-03-01     74.2350\n",
       "1972-04-01     78.1120\n",
       "1972-05-01     84.7636"
      ]
     },
     "execution_count": 7,
     "metadata": {},
     "output_type": "execute_result"
    }
   ],
   "source": []
  },
  {
   "cell_type": "markdown",
   "metadata": {},
   "source": [
    "**TASK: Plot out the time series**"
   ]
  },
  {
   "cell_type": "code",
   "execution_count": 8,
   "metadata": {},
   "outputs": [],
   "source": [
    "#CODE HERE"
   ]
  },
  {
   "cell_type": "code",
   "execution_count": 9,
   "metadata": {},
   "outputs": [
    {
     "data": {
      "text/plain": [
       "<AxesSubplot:xlabel='DATE'>"
      ]
     },
     "execution_count": 9,
     "metadata": {},
     "output_type": "execute_result"
    },
    {
     "data": {
      "image/png": "[encoded data removed]",
      "text/plain": [
       "<Figure size 864x576 with 1 Axes>"
      ]
     },
     "metadata": {
      "needs_background": "light"
     },
     "output_type": "display_data"
    }
   ],
   "source": [
    "df.plot(figsize=(12,8))"
   ]
  },
  {
   "cell_type": "code",
   "execution_count": 9,
   "metadata": {},
   "outputs": [
    {
     "data": {
      "text/plain": [
       "<matplotlib.axes._subplots.AxesSubplot at 0x2167cf86b48>"
      ]
     },
     "execution_count": 9,
     "metadata": {},
     "output_type": "execute_result"
    },
    {
     "data": {
      "image/png": "[encoded data removed]",
      "text/plain": [
       "<Figure size 864x576 with 1 Axes>"
      ]
     },
     "metadata": {
      "needs_background": "light"
     },
     "output_type": "display_data"
    }
   ],
   "source": []
  },
  {
   "cell_type": "markdown",
   "metadata": {},
   "source": [
    "## Train Test Split"
   ]
  },
  {
   "cell_type": "markdown",
   "metadata": {},
   "source": [
    "**TASK: Figure out the length of the data set**"
   ]
  },
  {
   "cell_type": "code",
   "execution_count": 10,
   "metadata": {},
   "outputs": [],
   "source": [
    "#CODE HERE"
   ]
  },
  {
   "cell_type": "code",
   "execution_count": 10,
   "metadata": {},
   "outputs": [
    {
     "data": {
      "text/plain": [
       "573"
      ]
     },
     "execution_count": 10,
     "metadata": {},
     "output_type": "execute_result"
    }
   ],
   "source": [
    "len(df)"
   ]
  },
  {
   "cell_type": "code",
   "execution_count": 11,
   "metadata": {},
   "outputs": [
    {
     "data": {
      "text/plain": [
       "573"
      ]
     },
     "execution_count": 11,
     "metadata": {},
     "output_type": "execute_result"
    }
   ],
   "source": []
  },
  {
   "cell_type": "markdown",
   "metadata": {},
   "source": [
    "**TASK: Split the data into a train/test split where the test set is the last 24 months of data.**"
   ]
  },
  {
   "cell_type": "code",
   "execution_count": 12,
   "metadata": {},
   "outputs": [],
   "source": [
    "#CODE HERE"
   ]
  },
  {
   "cell_type": "code",
   "execution_count": 11,
   "metadata": {},
   "outputs": [
    {
     "data": {
      "text/plain": [
       "549"
      ]
     },
     "execution_count": 11,
     "metadata": {},
     "output_type": "execute_result"
    }
   ],
   "source": [
    "len(df)-24"
   ]
  },
  {
   "cell_type": "code",
   "execution_count": 12,
   "metadata": {},
   "outputs": [],
   "source": [
    "test_size = 24\n",
    "test_indx = len(df)-test_size"
   ]
  },
  {
   "cell_type": "code",
   "execution_count": 13,
   "metadata": {},
   "outputs": [
    {
     "data": {
      "text/plain": [
       "549"
      ]
     },
     "execution_count": 13,
     "metadata": {},
     "output_type": "execute_result"
    }
   ],
   "source": [
    "test_indx"
   ]
  },
  {
   "cell_type": "code",
   "execution_count": 14,
   "metadata": {},
   "outputs": [],
   "source": [
    "train = df.iloc[:test_indx]\n",
    "test = df.iloc[test_indx:]"
   ]
  },
  {
   "cell_type": "code",
   "execution_count": 15,
   "metadata": {},
   "outputs": [
    {
     "data": {
      "text/plain": [
       "549"
      ]
     },
     "execution_count": 15,
     "metadata": {},
     "output_type": "execute_result"
    }
   ],
   "source": [
    "len(train)"
   ]
  },
  {
   "cell_type": "code",
   "execution_count": 16,
   "metadata": {},
   "outputs": [
    {
     "data": {
      "text/plain": [
       "24"
      ]
     },
     "execution_count": 16,
     "metadata": {},
     "output_type": "execute_result"
    }
   ],
   "source": [
    "len(test)"
   ]
  },
  {
   "cell_type": "markdown",
   "metadata": {},
   "source": [
    "## Scale Data"
   ]
  },
  {
   "cell_type": "markdown",
   "metadata": {},
   "source": [
    "**TASK: Use a MinMaxScaler to scale the train and test sets into scaled versions.**"
   ]
  },
  {
   "cell_type": "code",
   "execution_count": 16,
   "metadata": {},
   "outputs": [],
   "source": [
    "# CODE HERE"
   ]
  },
  {
   "cell_type": "code",
   "execution_count": 17,
   "metadata": {},
   "outputs": [],
   "source": [
    "from sklearn.preprocessing import MinMaxScaler"
   ]
  },
  {
   "cell_type": "code",
   "execution_count": 18,
   "metadata": {},
   "outputs": [],
   "source": [
    "scaler = MinMaxScaler()\n",
    "scaled_train = scaler.fit_transform(train)\n",
    "scaled_test = scaler.transform(test)"
   ]
  },
  {
   "cell_type": "code",
   "execution_count": 18,
   "metadata": {},
   "outputs": [],
   "source": []
  },
  {
   "cell_type": "code",
   "execution_count": 19,
   "metadata": {},
   "outputs": [
    {
     "data": {
      "text/plain": [
       "MinMaxScaler(copy=True, feature_range=(0, 1))"
      ]
     },
     "execution_count": 19,
     "metadata": {},
     "output_type": "execute_result"
    }
   ],
   "source": []
  },
  {
   "cell_type": "code",
   "execution_count": 20,
   "metadata": {},
   "outputs": [],
   "source": []
  },
  {
   "cell_type": "markdown",
   "metadata": {},
   "source": [
    "# Time Series Generator\n",
    "\n",
    "**TASK: Create a TimeSeriesGenerator object based off the scaled_train data. The batch length is up to you, but at a minimum it should be at least 18 to capture a full year seasonality.**"
   ]
  },
  {
   "cell_type": "code",
   "execution_count": 21,
   "metadata": {},
   "outputs": [],
   "source": [
    "#CODE HERE"
   ]
  },
  {
   "cell_type": "code",
   "execution_count": 20,
   "metadata": {},
   "outputs": [],
   "source": [
    "from tensorflow.keras.preprocessing.sequence import TimeseriesGenerator"
   ]
  },
  {
   "cell_type": "code",
   "execution_count": 21,
   "metadata": {},
   "outputs": [
    {
     "data": {
      "text/plain": [
       "24"
      ]
     },
     "execution_count": 21,
     "metadata": {},
     "output_type": "execute_result"
    }
   ],
   "source": [
    "len(test)"
   ]
  },
  {
   "cell_type": "code",
   "execution_count": 22,
   "metadata": {},
   "outputs": [],
   "source": [
    "#training generator\n",
    "length = 20 #actually represent batches\n",
    "generator = TimeseriesGenerator(scaled_train,scaled_train,length=length,batch_size=1)"
   ]
  },
  {
   "cell_type": "code",
   "execution_count": 23,
   "metadata": {},
   "outputs": [],
   "source": [
    "X,y = generator[0]"
   ]
  },
  {
   "cell_type": "code",
   "execution_count": 24,
   "metadata": {},
   "outputs": [
    {
     "data": {
      "text/plain": [
       "array([[[0.00947104],\n",
       "        [0.06108982],\n",
       "        [0.11326273],\n",
       "        [0.14145625],\n",
       "        [0.18982663],\n",
       "        [0.30495972],\n",
       "        [0.30154406],\n",
       "        [0.27416065],\n",
       "        [0.19736841],\n",
       "        [0.08532665],\n",
       "        [0.01561588],\n",
       "        [0.        ],\n",
       "        [0.01774221],\n",
       "        [0.09850931],\n",
       "        [0.15590133],\n",
       "        [0.18358944],\n",
       "        [0.20878908],\n",
       "        [0.37150354],\n",
       "        [0.3542551 ],\n",
       "        [0.29817568]]])"
      ]
     },
     "execution_count": 24,
     "metadata": {},
     "output_type": "execute_result"
    }
   ],
   "source": [
    "X"
   ]
  },
  {
   "cell_type": "code",
   "execution_count": 25,
   "metadata": {},
   "outputs": [
    {
     "data": {
      "text/plain": [
       "array([[0.23973867]])"
      ]
     },
     "execution_count": 25,
     "metadata": {},
     "output_type": "execute_result"
    }
   ],
   "source": [
    "y"
   ]
  },
  {
   "cell_type": "code",
   "execution_count": 26,
   "metadata": {},
   "outputs": [
    {
     "data": {
      "text/plain": [
       "array([[0.00947104],\n",
       "       [0.06108982],\n",
       "       [0.11326273],\n",
       "       [0.14145625],\n",
       "       [0.18982663],\n",
       "       [0.30495972],\n",
       "       [0.30154406],\n",
       "       [0.27416065],\n",
       "       [0.19736841],\n",
       "       [0.08532665],\n",
       "       [0.01561588],\n",
       "       [0.        ],\n",
       "       [0.01774221],\n",
       "       [0.09850931],\n",
       "       [0.15590133],\n",
       "       [0.18358944],\n",
       "       [0.20878908],\n",
       "       [0.37150354],\n",
       "       [0.3542551 ],\n",
       "       [0.29817568],\n",
       "       [0.23973867],\n",
       "       [0.12104304],\n",
       "       [0.05289938],\n",
       "       [0.02087498],\n",
       "       [0.03141355],\n",
       "       [0.12133246],\n",
       "       [0.18622481],\n",
       "       [0.18855185],\n",
       "       [0.23182893],\n",
       "       [0.37263651],\n",
       "       [0.32891584],\n",
       "       [0.30809031],\n",
       "       [0.22409662],\n",
       "       [0.10933731],\n",
       "       [0.05452176],\n",
       "       [0.01749278],\n",
       "       [0.04076752],\n",
       "       [0.12186114],\n",
       "       [0.19277469],\n",
       "       [0.19221257],\n",
       "       [0.28139264],\n",
       "       [0.39898221],\n",
       "       [0.35985962],\n",
       "       [0.3357137 ],\n",
       "       [0.22874706],\n",
       "       [0.12405219],\n",
       "       [0.08404241],\n",
       "       [0.02969736],\n",
       "       [0.02386668],\n",
       "       [0.11198795],\n",
       "       [0.20583228],\n",
       "       [0.22885832],\n",
       "       [0.258115  ],\n",
       "       [0.37353242],\n",
       "       [0.35488703],\n",
       "       [0.32839226],\n",
       "       [0.24418041],\n",
       "       [0.11957773],\n",
       "       [0.06451857],\n",
       "       [0.02780228],\n",
       "       [0.0371497 ],\n",
       "       [0.11927158],\n",
       "       [0.22805913],\n",
       "       [0.24728191],\n",
       "       [0.29422626],\n",
       "       [0.40769115],\n",
       "       [0.39028709],\n",
       "       [0.34726599],\n",
       "       [0.24042588],\n",
       "       [0.12627596],\n",
       "       [0.06351285],\n",
       "       [0.0202285 ],\n",
       "       [0.02347545],\n",
       "       [0.10334519],\n",
       "       [0.1837756 ],\n",
       "       [0.2210642 ],\n",
       "       [0.24573807],\n",
       "       [0.38298674],\n",
       "       [0.35098488],\n",
       "       [0.32746581],\n",
       "       [0.23241214],\n",
       "       [0.14925109],\n",
       "       [0.06708485],\n",
       "       [0.02722198],\n",
       "       [0.03164989],\n",
       "       [0.11112186],\n",
       "       [0.2019265 ],\n",
       "       [0.23665099],\n",
       "       [0.26208914],\n",
       "       [0.37409745],\n",
       "       [0.35265235],\n",
       "       [0.34987663],\n",
       "       [0.26656578],\n",
       "       [0.15226024],\n",
       "       [0.06714158],\n",
       "       [0.03363442],\n",
       "       [0.06052406],\n",
       "       [0.12932729],\n",
       "       [0.19801489],\n",
       "       [0.21334643],\n",
       "       [0.24370918],\n",
       "       [0.36219466],\n",
       "       [0.35788891],\n",
       "       [0.35776456],\n",
       "       [0.23277138],\n",
       "       [0.12775799],\n",
       "       [0.05691861],\n",
       "       [0.03785508],\n",
       "       [0.01381533],\n",
       "       [0.12962762],\n",
       "       [0.20328854],\n",
       "       [0.22088022],\n",
       "       [0.25480042],\n",
       "       [0.37831666],\n",
       "       [0.37904459],\n",
       "       [0.34512729],\n",
       "       [0.23860352],\n",
       "       [0.13282148],\n",
       "       [0.08994218],\n",
       "       [0.05773525],\n",
       "       [0.02483822],\n",
       "       [0.13358431],\n",
       "       [0.21702097],\n",
       "       [0.20059209],\n",
       "       [0.25218323],\n",
       "       [0.35104815],\n",
       "       [0.30896077],\n",
       "       [0.2875462 ],\n",
       "       [0.20017176],\n",
       "       [0.0975465 ],\n",
       "       [0.05358004],\n",
       "       [0.02042848],\n",
       "       [0.03538915],\n",
       "       [0.11420518],\n",
       "       [0.20355324],\n",
       "       [0.18085953],\n",
       "       [0.25954903],\n",
       "       [0.37499118],\n",
       "       [0.35553497],\n",
       "       [0.3391439 ],\n",
       "       [0.27074427],\n",
       "       [0.148385  ],\n",
       "       [0.08505031],\n",
       "       [0.05037236],\n",
       "       [0.06065787],\n",
       "       [0.19601364],\n",
       "       [0.27717707],\n",
       "       [0.31389336],\n",
       "       [0.36123257],\n",
       "       [0.5103535 ],\n",
       "       [0.48335114],\n",
       "       [0.42139813],\n",
       "       [0.35071873],\n",
       "       [0.21527206],\n",
       "       [0.15798912],\n",
       "       [0.11136474],\n",
       "       [0.12736022],\n",
       "       [0.20326527],\n",
       "       [0.30960943],\n",
       "       [0.33601549],\n",
       "       [0.40474599],\n",
       "       [0.52313039],\n",
       "       [0.47891086],\n",
       "       [0.42749206],\n",
       "       [0.33018917],\n",
       "       [0.20046264],\n",
       "       [0.11634751],\n",
       "       [0.08706829],\n",
       "       [0.10924132],\n",
       "       [0.22016465],\n",
       "       [0.30084013],\n",
       "       [0.33190536],\n",
       "       [0.39731693],\n",
       "       [0.4993168 ],\n",
       "       [0.4556863 ],\n",
       "       [0.43936795],\n",
       "       [0.27786718],\n",
       "       [0.20181378],\n",
       "       [0.13316399],\n",
       "       [0.08697739],\n",
       "       [0.11117567],\n",
       "       [0.2609009 ],\n",
       "       [0.32682078],\n",
       "       [0.35021332],\n",
       "       [0.42287143],\n",
       "       [0.53338753],\n",
       "       [0.49991019],\n",
       "       [0.47278857],\n",
       "       [0.34951085],\n",
       "       [0.22357085],\n",
       "       [0.18885364],\n",
       "       [0.15302162],\n",
       "       [0.15446002],\n",
       "       [0.28620889],\n",
       "       [0.41037451],\n",
       "       [0.44149937],\n",
       "       [0.51908643],\n",
       "       [0.67098671],\n",
       "       [0.6310693 ],\n",
       "       [0.59691057],\n",
       "       [0.42703174],\n",
       "       [0.30134117],\n",
       "       [0.21173496],\n",
       "       [0.17769331],\n",
       "       [0.21058162],\n",
       "       [0.33226023],\n",
       "       [0.41286154],\n",
       "       [0.45465949],\n",
       "       [0.49043479],\n",
       "       [0.5949195 ],\n",
       "       [0.55552639],\n",
       "       [0.50626082],\n",
       "       [0.37695462],\n",
       "       [0.28191477],\n",
       "       [0.23327315],\n",
       "       [0.19892025],\n",
       "       [0.17357736],\n",
       "       [0.32809629],\n",
       "       [0.4263489 ],\n",
       "       [0.46025165],\n",
       "       [0.4935632 ],\n",
       "       [0.60079527],\n",
       "       [0.617843  ],\n",
       "       [0.51202315],\n",
       "       [0.40538302],\n",
       "       [0.28864864],\n",
       "       [0.21277195],\n",
       "       [0.19688192],\n",
       "       [0.19348371],\n",
       "       [0.33595876],\n",
       "       [0.4323352 ],\n",
       "       [0.46814249],\n",
       "       [0.50374908],\n",
       "       [0.71868953],\n",
       "       [0.59645534],\n",
       "       [0.56009611],\n",
       "       [0.45327491],\n",
       "       [0.32803084],\n",
       "       [0.24159158],\n",
       "       [0.22064751],\n",
       "       [0.22953752],\n",
       "       [0.37632559],\n",
       "       [0.52945048],\n",
       "       [0.55670736],\n",
       "       [0.61181451],\n",
       "       [0.72450058],\n",
       "       [0.64286447],\n",
       "       [0.62011695],\n",
       "       [0.49738245],\n",
       "       [0.36981643],\n",
       "       [0.29573592],\n",
       "       [0.24950569],\n",
       "       [0.26693083],\n",
       "       [0.47106438],\n",
       "       [0.54508017],\n",
       "       [0.59702983],\n",
       "       [0.66830844],\n",
       "       [0.77390504],\n",
       "       [0.7325754 ],\n",
       "       [0.6803734 ],\n",
       "       [0.50636554],\n",
       "       [0.37017931],\n",
       "       [0.2737985 ],\n",
       "       [0.23159986],\n",
       "       [0.29683036],\n",
       "       [0.44392749],\n",
       "       [0.54969425],\n",
       "       [0.60065928],\n",
       "       [0.62634759],\n",
       "       [0.73133116],\n",
       "       [0.70677655],\n",
       "       [0.61726342],\n",
       "       [0.45562739],\n",
       "       [0.37282413],\n",
       "       [0.31570409],\n",
       "       [0.25793611],\n",
       "       [0.33661906],\n",
       "       [0.46491009],\n",
       "       [0.58333448],\n",
       "       [0.66460627],\n",
       "       [0.65484071],\n",
       "       [0.84212141],\n",
       "       [0.83159666],\n",
       "       [0.77134312],\n",
       "       [0.5765359 ],\n",
       "       [0.49703412],\n",
       "       [0.35935495],\n",
       "       [0.26985999],\n",
       "       [0.36437626],\n",
       "       [0.51454071],\n",
       "       [0.63086641],\n",
       "       [0.67844487],\n",
       "       [0.7149939 ],\n",
       "       [0.91226778],\n",
       "       [0.80510188],\n",
       "       [0.68516274],\n",
       "       [0.56400117],\n",
       "       [0.39649446],\n",
       "       [0.2818566 ],\n",
       "       [0.26014025],\n",
       "       [0.32665061],\n",
       "       [0.49801438],\n",
       "       [0.57758088],\n",
       "       [0.57365619],\n",
       "       [0.60384732],\n",
       "       [0.72545175],\n",
       "       [0.63770353],\n",
       "       [0.573702  ],\n",
       "       [0.42061493],\n",
       "       [0.34058739],\n",
       "       [0.26069946],\n",
       "       [0.18097152],\n",
       "       [0.2756834 ],\n",
       "       [0.43318312],\n",
       "       [0.51407385],\n",
       "       [0.55039963],\n",
       "       [0.595334  ],\n",
       "       [0.65870359],\n",
       "       [0.58609057],\n",
       "       [0.51790837],\n",
       "       [0.40765115],\n",
       "       [0.27578448],\n",
       "       [0.17157466],\n",
       "       [0.14559837],\n",
       "       [0.20169161],\n",
       "       [0.30520478],\n",
       "       [0.34726308],\n",
       "       [0.39276975],\n",
       "       [0.4190151 ],\n",
       "       [0.51046112],\n",
       "       [0.46158897],\n",
       "       [0.44354134],\n",
       "       [0.32636192],\n",
       "       [0.24344375],\n",
       "       [0.1867324 ],\n",
       "       [0.1517403 ],\n",
       "       [0.25227413],\n",
       "       [0.3827584 ],\n",
       "       [0.482933  ],\n",
       "       [0.5663013 ],\n",
       "       [0.5595318 ],\n",
       "       [0.66509713],\n",
       "       [0.63101039],\n",
       "       [0.53208803],\n",
       "       [0.42556207],\n",
       "       [0.40049988],\n",
       "       [0.24705066],\n",
       "       [0.21710605],\n",
       "       [0.3106246 ],\n",
       "       [0.41679205],\n",
       "       [0.4655653 ],\n",
       "       [0.55069633],\n",
       "       [0.53323628],\n",
       "       [0.65273256],\n",
       "       [0.6022453 ],\n",
       "       [0.55351132],\n",
       "       [0.50874712],\n",
       "       [0.41053159],\n",
       "       [0.3376495 ],\n",
       "       [0.33408986],\n",
       "       [0.45304729],\n",
       "       [0.61827568],\n",
       "       [0.70208393],\n",
       "       [0.80395291],\n",
       "       [0.7747675 ],\n",
       "       [0.94670357],\n",
       "       [0.83318341],\n",
       "       [0.76047149],\n",
       "       [0.66868586],\n",
       "       [0.56791495],\n",
       "       [0.40647818],\n",
       "       [0.34147893],\n",
       "       [0.48424123],\n",
       "       [0.60888972],\n",
       "       [0.62540223],\n",
       "       [0.67443146],\n",
       "       [0.64487663],\n",
       "       [0.75766377],\n",
       "       [0.63589572],\n",
       "       [0.59974083],\n",
       "       [0.49501178],\n",
       "       [0.41579651],\n",
       "       [0.34921415],\n",
       "       [0.25354891],\n",
       "       [0.33055422],\n",
       "       [0.48986321],\n",
       "       [0.59474788],\n",
       "       [0.65434403],\n",
       "       [0.66753543],\n",
       "       [0.80265631],\n",
       "       [0.71705115],\n",
       "       [0.68986262],\n",
       "       [0.62369695],\n",
       "       [0.58805692],\n",
       "       [0.44984325],\n",
       "       [0.38266895],\n",
       "       [0.52076263],\n",
       "       [0.65111818],\n",
       "       [0.73167294],\n",
       "       [0.82298299],\n",
       "       [0.80931746],\n",
       "       [1.        ],\n",
       "       [0.95692363],\n",
       "       [0.87718478],\n",
       "       [0.69141447],\n",
       "       [0.62214002],\n",
       "       [0.4621831 ],\n",
       "       [0.3511725 ],\n",
       "       [0.52481749],\n",
       "       [0.62277559],\n",
       "       [0.71054126],\n",
       "       [0.79313728],\n",
       "       [0.73648118],\n",
       "       [0.90148196],\n",
       "       [0.85356971],\n",
       "       [0.76810199],\n",
       "       [0.63817985],\n",
       "       [0.50364654],\n",
       "       [0.38121819],\n",
       "       [0.31740064],\n",
       "       [0.49162376],\n",
       "       [0.58495105],\n",
       "       [0.68667095],\n",
       "       [0.80952762],\n",
       "       [0.79009104],\n",
       "       [0.88302055],\n",
       "       [0.78941838],\n",
       "       [0.65857997],\n",
       "       [0.60582894],\n",
       "       [0.49204408],\n",
       "       [0.32987647],\n",
       "       [0.2969518 ],\n",
       "       [0.35876955],\n",
       "       [0.48110555],\n",
       "       [0.59006762],\n",
       "       [0.60473814],\n",
       "       [0.61824732],\n",
       "       [0.80533386],\n",
       "       [0.62801433],\n",
       "       [0.58998181],\n",
       "       [0.47530395],\n",
       "       [0.36576521],\n",
       "       [0.3184129 ],\n",
       "       [0.18278007],\n",
       "       [0.25838552],\n",
       "       [0.41127697],\n",
       "       [0.51611292],\n",
       "       [0.54115039],\n",
       "       [0.57690677],\n",
       "       [0.66681259],\n",
       "       [0.55138499],\n",
       "       [0.53718642],\n",
       "       [0.4420215 ],\n",
       "       [0.34988681],\n",
       "       [0.21230072],\n",
       "       [0.13914302],\n",
       "       [0.23728292],\n",
       "       [0.37697716],\n",
       "       [0.49767551],\n",
       "       [0.53803288],\n",
       "       [0.55192821],\n",
       "       [0.62024348],\n",
       "       [0.51047058],\n",
       "       [0.48647082],\n",
       "       [0.41747634],\n",
       "       [0.28427817],\n",
       "       [0.16309115],\n",
       "       [0.10268271],\n",
       "       [0.24689286],\n",
       "       [0.3454618 ],\n",
       "       [0.40423986],\n",
       "       [0.42151084],\n",
       "       [0.41797011],\n",
       "       [0.45169179],\n",
       "       [0.41887911],\n",
       "       [0.40972803],\n",
       "       [0.31339595],\n",
       "       [0.23591506],\n",
       "       [0.12980579],\n",
       "       [0.09307932],\n",
       "       [0.19444507],\n",
       "       [0.29743684],\n",
       "       [0.39142952],\n",
       "       [0.40833181],\n",
       "       [0.40654945],\n",
       "       [0.47764626],\n",
       "       [0.39026746],\n",
       "       [0.35620545],\n",
       "       [0.27422828],\n",
       "       [0.2198076 ],\n",
       "       [0.11764411],\n",
       "       [0.07351475],\n",
       "       [0.14149624],\n",
       "       [0.2863296 ],\n",
       "       [0.35795581],\n",
       "       [0.35814561],\n",
       "       [0.37998486],\n",
       "       [0.50926561],\n",
       "       [0.39057433],\n",
       "       [0.34465461],\n",
       "       [0.28747203],\n",
       "       [0.23516459],\n",
       "       [0.15569044],\n",
       "       [0.06649001],\n",
       "       [0.20170834],\n",
       "       [0.31321197],\n",
       "       [0.40080166],\n",
       "       [0.44136265],\n",
       "       [0.42156466],\n",
       "       [0.52634606],\n",
       "       [0.42622818],\n",
       "       [0.38365722],\n",
       "       [0.30511534],\n",
       "       [0.23707931],\n",
       "       [0.20297948],\n",
       "       [0.12155208],\n",
       "       [0.19574094],\n",
       "       [0.30468338],\n",
       "       [0.37028329],\n",
       "       [0.36143183],\n",
       "       [0.34467716],\n",
       "       [0.41797884],\n",
       "       [0.36154745],\n",
       "       [0.38938173],\n",
       "       [0.30315844],\n",
       "       [0.25649698],\n",
       "       [0.19782873],\n",
       "       [0.13318726],\n",
       "       [0.24834362],\n",
       "       [0.3149827 ],\n",
       "       [0.41828135],\n",
       "       [0.4766849 ],\n",
       "       [0.45728977],\n",
       "       [0.54050318],\n",
       "       [0.48134479],\n",
       "       [0.45575247],\n",
       "       [0.35906261],\n",
       "       [0.31068714],\n",
       "       [0.20365141],\n",
       "       [0.16432593],\n",
       "       [0.2587782 ],\n",
       "       [0.39071032],\n",
       "       [0.44387077],\n",
       "       [0.4695409 ],\n",
       "       [0.41743926],\n",
       "       [0.46851409],\n",
       "       [0.41889656],\n",
       "       [0.39641011],\n",
       "       [0.28544533]])"
      ]
     },
     "execution_count": 26,
     "metadata": {},
     "output_type": "execute_result"
    }
   ],
   "source": [
    "scaled_train"
   ]
  },
  {
   "cell_type": "markdown",
   "metadata": {},
   "source": [
    "### Create the Model\n",
    "\n",
    "**TASK: Create a Keras Sequential Model with as many LSTM units you want and a final Dense Layer.**"
   ]
  },
  {
   "cell_type": "code",
   "execution_count": 27,
   "metadata": {},
   "outputs": [],
   "source": [
    "from tensorflow.keras.models import Sequential\n",
    "from tensorflow.keras.layers import Dense,SimpleRNN,LSTM"
   ]
  },
  {
   "cell_type": "code",
   "execution_count": 28,
   "metadata": {},
   "outputs": [],
   "source": [
    "n_features = 1"
   ]
  },
  {
   "cell_type": "code",
   "execution_count": 29,
   "metadata": {},
   "outputs": [],
   "source": [
    "model = Sequential()\n",
    "model.add(LSTM(100,activation='relu',input_shape=(length,n_features)))\n",
    "model.add(Dense(1))\n",
    "model.compile(optimizer='adam',loss='mse')"
   ]
  },
  {
   "cell_type": "code",
   "execution_count": 30,
   "metadata": {},
   "outputs": [
    {
     "name": "stdout",
     "output_type": "stream",
     "text": [
      "Model: \"sequential\"\n",
      "_________________________________________________________________\n",
      " Layer (type)                Output Shape              Param #   \n",
      "=================================================================\n",
      " lstm (LSTM)                 (None, 100)               40800     \n",
      "                                                                 \n",
      " dense (Dense)               (None, 1)                 101       \n",
      "                                                                 \n",
      "=================================================================\n",
      "Total params: 40,901\n",
      "Trainable params: 40,901\n",
      "Non-trainable params: 0\n",
      "_________________________________________________________________\n"
     ]
    }
   ],
   "source": [
    "model.summary()"
   ]
  },
  {
   "cell_type": "markdown",
   "metadata": {},
   "source": [
    "**TASK: Create a generator for the scaled test/validation set. NOTE: Double check that your batch length makes sense for the size of the test set as mentioned in the RNN Time Series video.**"
   ]
  },
  {
   "cell_type": "code",
   "execution_count": 27,
   "metadata": {},
   "outputs": [],
   "source": [
    "# CODE HERE"
   ]
  },
  {
   "cell_type": "code",
   "execution_count": 31,
   "metadata": {},
   "outputs": [],
   "source": [
    "from tensorflow.keras.callbacks import EarlyStopping"
   ]
  },
  {
   "cell_type": "code",
   "execution_count": 32,
   "metadata": {},
   "outputs": [],
   "source": [
    "early_stop = EarlyStopping(monitor='val_loss',patience=3)"
   ]
  },
  {
   "cell_type": "code",
   "execution_count": 33,
   "metadata": {},
   "outputs": [],
   "source": [
    "validation_generator = TimeseriesGenerator(scaled_test,scaled_test,length=length,batch_size=1)"
   ]
  },
  {
   "cell_type": "code",
   "execution_count": null,
   "metadata": {},
   "outputs": [],
   "source": []
  },
  {
   "cell_type": "markdown",
   "metadata": {},
   "source": [
    "**TASK: Create an EarlyStopping callback based on val_loss.**"
   ]
  },
  {
   "cell_type": "code",
   "execution_count": 29,
   "metadata": {},
   "outputs": [],
   "source": [
    "#CODE HERE"
   ]
  },
  {
   "cell_type": "code",
   "execution_count": 34,
   "metadata": {},
   "outputs": [
    {
     "name": "stdout",
     "output_type": "stream",
     "text": [
      "Epoch 1/20\n",
      "529/529 [==============================] - 4s 6ms/step - loss: 0.0269 - val_loss: 0.0046\n",
      "Epoch 2/20\n",
      "529/529 [==============================] - 3s 6ms/step - loss: 0.0090 - val_loss: 0.0021\n",
      "Epoch 3/20\n",
      "529/529 [==============================] - 3s 6ms/step - loss: 0.0043 - val_loss: 0.0060\n",
      "Epoch 4/20\n",
      "529/529 [==============================] - 3s 6ms/step - loss: 0.0032 - val_loss: 0.0027\n",
      "Epoch 5/20\n",
      "529/529 [==============================] - 3s 6ms/step - loss: 0.0032 - val_loss: 0.0025\n"
     ]
    },
    {
     "data": {
      "text/plain": [
       "<keras.callbacks.History at 0x2404e2ac460>"
      ]
     },
     "execution_count": 34,
     "metadata": {},
     "output_type": "execute_result"
    }
   ],
   "source": [
    "model.fit(generator,epochs=20,validation_data=validation_generator,callbacks=[early_stop])"
   ]
  },
  {
   "cell_type": "code",
   "execution_count": 31,
   "metadata": {},
   "outputs": [],
   "source": []
  },
  {
   "cell_type": "markdown",
   "metadata": {},
   "source": [
    "**TASK: Fit the model to the generator, let the EarlyStopping dictate the amount of epochs, so feel free to set the parameter high.**"
   ]
  },
  {
   "cell_type": "code",
   "execution_count": 32,
   "metadata": {},
   "outputs": [],
   "source": [
    "# CODE HERE"
   ]
  },
  {
   "cell_type": "code",
   "execution_count": 33,
   "metadata": {},
   "outputs": [
    {
     "name": "stdout",
     "output_type": "stream",
     "text": [
      "Epoch 1/20\n",
      "531/531 [==============================] - 25s 47ms/step - loss: 0.0261 - val_loss: 0.0043\n",
      "Epoch 2/20\n",
      "531/531 [==============================] - 25s 47ms/step - loss: 0.0076 - val_loss: 0.0029\n",
      "Epoch 3/20\n",
      "531/531 [==============================] - 25s 47ms/step - loss: 0.0039 - val_loss: 0.0074\n",
      "Epoch 4/20\n",
      "531/531 [==============================] - 25s 47ms/step - loss: 0.0035 - val_loss: 0.0025\n",
      "Epoch 5/20\n",
      "531/531 [==============================] - 25s 47ms/step - loss: 0.0029 - val_loss: 0.0038\n",
      "Epoch 6/20\n",
      "531/531 [==============================] - 25s 47ms/step - loss: 0.0036 - val_loss: 0.0023\n",
      "Epoch 7/20\n",
      "531/531 [==============================] - 25s 47ms/step - loss: 0.0029 - val_loss: 0.0031\n",
      "Epoch 8/20\n",
      "531/531 [==============================] - 25s 47ms/step - loss: 0.0030 - val_loss: 0.0025\n"
     ]
    },
    {
     "data": {
      "text/plain": [
       "<tensorflow.python.keras.callbacks.History at 0x21674bd5c48>"
      ]
     },
     "execution_count": 33,
     "metadata": {},
     "output_type": "execute_result"
    }
   ],
   "source": []
  },
  {
   "cell_type": "markdown",
   "metadata": {},
   "source": [
    "**TASK: Plot the history of the loss that occured during training.**"
   ]
  },
  {
   "cell_type": "code",
   "execution_count": 34,
   "metadata": {},
   "outputs": [],
   "source": [
    "# CODE HERE"
   ]
  },
  {
   "cell_type": "code",
   "execution_count": 35,
   "metadata": {},
   "outputs": [],
   "source": [
    "losses = pd.DataFrame(model.history.history)"
   ]
  },
  {
   "cell_type": "code",
   "execution_count": 36,
   "metadata": {},
   "outputs": [
    {
     "data": {
      "text/plain": [
       "<AxesSubplot:>"
      ]
     },
     "execution_count": 36,
     "metadata": {},
     "output_type": "execute_result"
    },
    {
     "data": {
      "image/png": "[encoded data removed]",
      "text/plain": [
       "<Figure size 432x288 with 1 Axes>"
      ]
     },
     "metadata": {
      "needs_background": "light"
     },
     "output_type": "display_data"
    }
   ],
   "source": [
    "losses.plot()"
   ]
  },
  {
   "cell_type": "code",
   "execution_count": 35,
   "metadata": {},
   "outputs": [
    {
     "data": {
      "text/plain": [
       "<matplotlib.axes._subplots.AxesSubplot at 0x21674f2d908>"
      ]
     },
     "execution_count": 35,
     "metadata": {},
     "output_type": "execute_result"
    },
    {
     "data": {
      "image/png": "[encoded data removed]",
      "text/plain": [
       "<Figure size 432x288 with 1 Axes>"
      ]
     },
     "metadata": {
      "needs_background": "light"
     },
     "output_type": "display_data"
    }
   ],
   "source": []
  },
  {
   "cell_type": "markdown",
   "metadata": {},
   "source": [
    "## Evaluate on Test Data\n",
    "\n",
    "**TASK: Forecast predictions for your test data range (the last 12 months of the entire dataset). Remember to inverse your scaling transformations. Your final result should be a DataFrame with two columns, the true test values and the predictions.**"
   ]
  },
  {
   "cell_type": "code",
   "execution_count": 36,
   "metadata": {},
   "outputs": [],
   "source": [
    "# CODE HERE"
   ]
  },
  {
   "cell_type": "code",
   "execution_count": 37,
   "metadata": {},
   "outputs": [],
   "source": [
    "test_prediction =[]\n",
    "\n",
    "first_eval_batch = scaled_train[-length:]\n",
    "current_batch = first_eval_batch.reshape((1,length,n_features))\n",
    "\n",
    "for i in range(len(test)):\n",
    "    current_pred = model.predict(current_batch)[0]\n",
    "    test_prediction.append(current_pred)\n",
    "    current_batch = np.append(current_batch[:,1:,:],[[current_pred]],axis=1)"
   ]
  },
  {
   "cell_type": "code",
   "execution_count": 38,
   "metadata": {},
   "outputs": [
    {
     "name": "stderr",
     "output_type": "stream",
     "text": [
      "<ipython-input-38-0c958acb94db>:2: SettingWithCopyWarning: \n",
      "A value is trying to be set on a copy of a slice from a DataFrame.\n",
      "Try using .loc[row_indexer,col_indexer] = value instead\n",
      "\n",
      "See the caveats in the documentation: https://pandas.pydata.org/pandas-docs/stable/user_guide/indexing.html#returning-a-view-versus-a-copy\n",
      "  test['Predictions'] = true_prediction\n"
     ]
    }
   ],
   "source": [
    "true_prediction = scaler.inverse_transform(test_prediction)\n",
    "test['Predictions'] = true_prediction"
   ]
  },
  {
   "cell_type": "code",
   "execution_count": 38,
   "metadata": {},
   "outputs": [],
   "source": []
  },
  {
   "cell_type": "code",
   "execution_count": 39,
   "metadata": {},
   "outputs": [
    {
     "name": "stderr",
     "output_type": "stream",
     "text": [
      "C:\\Users\\Marcial\\Anaconda3\\envs\\tf2gpu\\lib\\site-packages\\ipykernel_launcher.py:1: SettingWithCopyWarning: \n",
      "A value is trying to be set on a copy of a slice from a DataFrame.\n",
      "Try using .loc[row_indexer,col_indexer] = value instead\n",
      "\n",
      "See the caveats in the documentation: http://pandas.pydata.org/pandas-docs/stable/user_guide/indexing.html#returning-a-view-versus-a-copy\n",
      "  \"\"\"Entry point for launching an IPython kernel.\n"
     ]
    }
   ],
   "source": []
  },
  {
   "cell_type": "code",
   "execution_count": 39,
   "metadata": {},
   "outputs": [
    {
     "data": {
      "text/html": [
       "<div>\n",
       "<style scoped>\n",
       "    .dataframe tbody tr th:only-of-type {\n",
       "        vertical-align: middle;\n",
       "    }\n",
       "\n",
       "    .dataframe tbody tr th {\n",
       "        vertical-align: top;\n",
       "    }\n",
       "\n",
       "    .dataframe thead th {\n",
       "        text-align: right;\n",
       "    }\n",
       "</style>\n",
       "<table border=\"1\" class=\"dataframe\">\n",
       "  <thead>\n",
       "    <tr style=\"text-align: right;\">\n",
       "      <th></th>\n",
       "      <th>Production</th>\n",
       "      <th>Predictions</th>\n",
       "    </tr>\n",
       "    <tr>\n",
       "      <th>DATE</th>\n",
       "      <th></th>\n",
       "      <th></th>\n",
       "    </tr>\n",
       "  </thead>\n",
       "  <tbody>\n",
       "    <tr>\n",
       "      <th>2017-10-01</th>\n",
       "      <td>90.4732</td>\n",
       "      <td>89.089959</td>\n",
       "    </tr>\n",
       "    <tr>\n",
       "      <th>2017-11-01</th>\n",
       "      <td>77.4378</td>\n",
       "      <td>82.870154</td>\n",
       "    </tr>\n",
       "    <tr>\n",
       "      <th>2017-12-01</th>\n",
       "      <td>75.8118</td>\n",
       "      <td>85.592375</td>\n",
       "    </tr>\n",
       "    <tr>\n",
       "      <th>2018-01-01</th>\n",
       "      <td>83.4343</td>\n",
       "      <td>97.112337</td>\n",
       "    </tr>\n",
       "    <tr>\n",
       "      <th>2018-02-01</th>\n",
       "      <td>99.4899</td>\n",
       "      <td>107.773580</td>\n",
       "    </tr>\n",
       "    <tr>\n",
       "      <th>2018-03-01</th>\n",
       "      <td>107.3152</td>\n",
       "      <td>115.719678</td>\n",
       "    </tr>\n",
       "    <tr>\n",
       "      <th>2018-04-01</th>\n",
       "      <td>112.4309</td>\n",
       "      <td>121.188525</td>\n",
       "    </tr>\n",
       "    <tr>\n",
       "      <th>2018-05-01</th>\n",
       "      <td>110.3544</td>\n",
       "      <td>125.300152</td>\n",
       "    </tr>\n",
       "    <tr>\n",
       "      <th>2018-06-01</th>\n",
       "      <td>124.5841</td>\n",
       "      <td>124.845928</td>\n",
       "    </tr>\n",
       "    <tr>\n",
       "      <th>2018-07-01</th>\n",
       "      <td>117.2215</td>\n",
       "      <td>119.093156</td>\n",
       "    </tr>\n",
       "    <tr>\n",
       "      <th>2018-08-01</th>\n",
       "      <td>112.6779</td>\n",
       "      <td>109.120481</td>\n",
       "    </tr>\n",
       "    <tr>\n",
       "      <th>2018-09-01</th>\n",
       "      <td>103.3118</td>\n",
       "      <td>96.905024</td>\n",
       "    </tr>\n",
       "    <tr>\n",
       "      <th>2018-10-01</th>\n",
       "      <td>92.1321</td>\n",
       "      <td>85.579197</td>\n",
       "    </tr>\n",
       "    <tr>\n",
       "      <th>2018-11-01</th>\n",
       "      <td>82.4347</td>\n",
       "      <td>80.151568</td>\n",
       "    </tr>\n",
       "    <tr>\n",
       "      <th>2018-12-01</th>\n",
       "      <td>76.7608</td>\n",
       "      <td>84.901435</td>\n",
       "    </tr>\n",
       "    <tr>\n",
       "      <th>2019-01-01</th>\n",
       "      <td>86.9988</td>\n",
       "      <td>97.198433</td>\n",
       "    </tr>\n",
       "    <tr>\n",
       "      <th>2019-02-01</th>\n",
       "      <td>98.1116</td>\n",
       "      <td>107.738598</td>\n",
       "    </tr>\n",
       "    <tr>\n",
       "      <th>2019-03-01</th>\n",
       "      <td>116.1718</td>\n",
       "      <td>115.629214</td>\n",
       "    </tr>\n",
       "    <tr>\n",
       "      <th>2019-04-01</th>\n",
       "      <td>114.9703</td>\n",
       "      <td>121.088323</td>\n",
       "    </tr>\n",
       "    <tr>\n",
       "      <th>2019-05-01</th>\n",
       "      <td>114.5613</td>\n",
       "      <td>125.094240</td>\n",
       "    </tr>\n",
       "    <tr>\n",
       "      <th>2019-06-01</th>\n",
       "      <td>124.9605</td>\n",
       "      <td>124.394598</td>\n",
       "    </tr>\n",
       "    <tr>\n",
       "      <th>2019-07-01</th>\n",
       "      <td>110.2632</td>\n",
       "      <td>118.171881</td>\n",
       "    </tr>\n",
       "    <tr>\n",
       "      <th>2019-08-01</th>\n",
       "      <td>102.6085</td>\n",
       "      <td>107.726197</td>\n",
       "    </tr>\n",
       "    <tr>\n",
       "      <th>2019-09-01</th>\n",
       "      <td>101.5866</td>\n",
       "      <td>95.061638</td>\n",
       "    </tr>\n",
       "  </tbody>\n",
       "</table>\n",
       "</div>"
      ],
      "text/plain": [
       "            Production  Predictions\n",
       "DATE                               \n",
       "2017-10-01     90.4732    89.089959\n",
       "2017-11-01     77.4378    82.870154\n",
       "2017-12-01     75.8118    85.592375\n",
       "2018-01-01     83.4343    97.112337\n",
       "2018-02-01     99.4899   107.773580\n",
       "2018-03-01    107.3152   115.719678\n",
       "2018-04-01    112.4309   121.188525\n",
       "2018-05-01    110.3544   125.300152\n",
       "2018-06-01    124.5841   124.845928\n",
       "2018-07-01    117.2215   119.093156\n",
       "2018-08-01    112.6779   109.120481\n",
       "2018-09-01    103.3118    96.905024\n",
       "2018-10-01     92.1321    85.579197\n",
       "2018-11-01     82.4347    80.151568\n",
       "2018-12-01     76.7608    84.901435\n",
       "2019-01-01     86.9988    97.198433\n",
       "2019-02-01     98.1116   107.738598\n",
       "2019-03-01    116.1718   115.629214\n",
       "2019-04-01    114.9703   121.088323\n",
       "2019-05-01    114.5613   125.094240\n",
       "2019-06-01    124.9605   124.394598\n",
       "2019-07-01    110.2632   118.171881\n",
       "2019-08-01    102.6085   107.726197\n",
       "2019-09-01    101.5866    95.061638"
      ]
     },
     "execution_count": 39,
     "metadata": {},
     "output_type": "execute_result"
    }
   ],
   "source": [
    "test"
   ]
  },
  {
   "cell_type": "markdown",
   "metadata": {},
   "source": [
    "**TASK: Plot your predictions versus the True test values. (Your plot may look different than ours).**"
   ]
  },
  {
   "cell_type": "code",
   "execution_count": 41,
   "metadata": {},
   "outputs": [],
   "source": [
    "# CODE HERE"
   ]
  },
  {
   "cell_type": "code",
   "execution_count": 40,
   "metadata": {},
   "outputs": [
    {
     "data": {
      "text/plain": [
       "<AxesSubplot:xlabel='DATE'>"
      ]
     },
     "execution_count": 40,
     "metadata": {},
     "output_type": "execute_result"
    },
    {
     "data": {
      "image/png": "[encoded data removed]",
      "text/plain": [
       "<Figure size 864x576 with 1 Axes>"
      ]
     },
     "metadata": {
      "needs_background": "light"
     },
     "output_type": "display_data"
    }
   ],
   "source": [
    "test.plot(figsize=(12,8))"
   ]
  },
  {
   "cell_type": "code",
   "execution_count": 42,
   "metadata": {},
   "outputs": [
    {
     "data": {
      "text/plain": [
       "<matplotlib.axes._subplots.AxesSubplot at 0x21882ffd8c8>"
      ]
     },
     "execution_count": 42,
     "metadata": {},
     "output_type": "execute_result"
    },
    {
     "data": {
      "image/png": "[encoded data removed]",
      "text/plain": [
       "<Figure size 432x288 with 1 Axes>"
      ]
     },
     "metadata": {
      "needs_background": "light"
     },
     "output_type": "display_data"
    }
   ],
   "source": []
  },
  {
   "cell_type": "markdown",
   "metadata": {},
   "source": [
    "**TASK: Calculate your RMSE.**"
   ]
  },
  {
   "cell_type": "code",
   "execution_count": 1,
   "metadata": {},
   "outputs": [],
   "source": [
    "#CODE HERE"
   ]
  },
  {
   "cell_type": "code",
   "execution_count": 41,
   "metadata": {},
   "outputs": [],
   "source": [
    "from sklearn.metrics import mean_squared_error"
   ]
  },
  {
   "cell_type": "code",
   "execution_count": 43,
   "metadata": {},
   "outputs": [
    {
     "data": {
      "text/plain": [
       "7.643645387685912"
      ]
     },
     "execution_count": 43,
     "metadata": {},
     "output_type": "execute_result"
    }
   ],
   "source": [
    "np.sqrt(mean_squared_error(test['Production'],test['Predictions']))"
   ]
  },
  {
   "cell_type": "code",
   "execution_count": null,
   "metadata": {},
   "outputs": [],
   "source": []
  }
 ],
 "metadata": {
  "kernelspec": {
   "display_name": "Python 3",
   "language": "python",
   "name": "python3"
  },
  "language_info": {
   "codemirror_mode": {
    "name": "ipython",
    "version": 3
   },
   "file_extension": ".py",
   "mimetype": "text/x-python",
   "name": "python",
   "nbconvert_exporter": "python",
   "pygments_lexer": "ipython3",
   "version": "3.8.8"
  }
 },
 "nbformat": 4,
 "nbformat_minor": 2
}
