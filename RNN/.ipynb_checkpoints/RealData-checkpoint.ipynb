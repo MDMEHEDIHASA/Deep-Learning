{
 "cells": [
  {
   "cell_type": "code",
   "execution_count": 1,
   "id": "a9a3fa7a",
   "metadata": {},
   "outputs": [],
   "source": [
    "import numpy as np\n",
    "import pandas as pd\n",
    "%matplotlib inline\n",
    "import matplotlib.pyplot as plt\n",
    "import seaborn as sns"
   ]
  },
  {
   "cell_type": "code",
   "execution_count": 2,
   "id": "013e2a01",
   "metadata": {},
   "outputs": [],
   "source": [
    "df = pd.read_csv('../DATA/RSCCASN.csv')"
   ]
  },
  {
   "cell_type": "code",
   "execution_count": 3,
   "id": "b5aa1f7b",
   "metadata": {},
   "outputs": [
    {
     "data": {
      "text/html": [
       "<div>\n",
       "<style scoped>\n",
       "    .dataframe tbody tr th:only-of-type {\n",
       "        vertical-align: middle;\n",
       "    }\n",
       "\n",
       "    .dataframe tbody tr th {\n",
       "        vertical-align: top;\n",
       "    }\n",
       "\n",
       "    .dataframe thead th {\n",
       "        text-align: right;\n",
       "    }\n",
       "</style>\n",
       "<table border=\"1\" class=\"dataframe\">\n",
       "  <thead>\n",
       "    <tr style=\"text-align: right;\">\n",
       "      <th></th>\n",
       "      <th>DATE</th>\n",
       "      <th>RSCCASN</th>\n",
       "    </tr>\n",
       "  </thead>\n",
       "  <tbody>\n",
       "    <tr>\n",
       "      <th>0</th>\n",
       "      <td>1992-01-01</td>\n",
       "      <td>6938</td>\n",
       "    </tr>\n",
       "    <tr>\n",
       "      <th>1</th>\n",
       "      <td>1992-02-01</td>\n",
       "      <td>7524</td>\n",
       "    </tr>\n",
       "    <tr>\n",
       "      <th>2</th>\n",
       "      <td>1992-03-01</td>\n",
       "      <td>8475</td>\n",
       "    </tr>\n",
       "    <tr>\n",
       "      <th>3</th>\n",
       "      <td>1992-04-01</td>\n",
       "      <td>9401</td>\n",
       "    </tr>\n",
       "    <tr>\n",
       "      <th>4</th>\n",
       "      <td>1992-05-01</td>\n",
       "      <td>9558</td>\n",
       "    </tr>\n",
       "    <tr>\n",
       "      <th>...</th>\n",
       "      <td>...</td>\n",
       "      <td>...</td>\n",
       "    </tr>\n",
       "    <tr>\n",
       "      <th>329</th>\n",
       "      <td>2019-06-01</td>\n",
       "      <td>21123</td>\n",
       "    </tr>\n",
       "    <tr>\n",
       "      <th>330</th>\n",
       "      <td>2019-07-01</td>\n",
       "      <td>21714</td>\n",
       "    </tr>\n",
       "    <tr>\n",
       "      <th>331</th>\n",
       "      <td>2019-08-01</td>\n",
       "      <td>23791</td>\n",
       "    </tr>\n",
       "    <tr>\n",
       "      <th>332</th>\n",
       "      <td>2019-09-01</td>\n",
       "      <td>19695</td>\n",
       "    </tr>\n",
       "    <tr>\n",
       "      <th>333</th>\n",
       "      <td>2019-10-01</td>\n",
       "      <td>21113</td>\n",
       "    </tr>\n",
       "  </tbody>\n",
       "</table>\n",
       "<p>334 rows × 2 columns</p>\n",
       "</div>"
      ],
      "text/plain": [
       "           DATE  RSCCASN\n",
       "0    1992-01-01     6938\n",
       "1    1992-02-01     7524\n",
       "2    1992-03-01     8475\n",
       "3    1992-04-01     9401\n",
       "4    1992-05-01     9558\n",
       "..          ...      ...\n",
       "329  2019-06-01    21123\n",
       "330  2019-07-01    21714\n",
       "331  2019-08-01    23791\n",
       "332  2019-09-01    19695\n",
       "333  2019-10-01    21113\n",
       "\n",
       "[334 rows x 2 columns]"
      ]
     },
     "execution_count": 3,
     "metadata": {},
     "output_type": "execute_result"
    }
   ],
   "source": [
    "df"
   ]
  },
  {
   "cell_type": "code",
   "execution_count": 4,
   "id": "d647d24f",
   "metadata": {},
   "outputs": [
    {
     "name": "stdout",
     "output_type": "stream",
     "text": [
      "<class 'pandas.core.frame.DataFrame'>\n",
      "RangeIndex: 334 entries, 0 to 333\n",
      "Data columns (total 2 columns):\n",
      " #   Column   Non-Null Count  Dtype \n",
      "---  ------   --------------  ----- \n",
      " 0   DATE     334 non-null    object\n",
      " 1   RSCCASN  334 non-null    int64 \n",
      "dtypes: int64(1), object(1)\n",
      "memory usage: 5.3+ KB\n"
     ]
    }
   ],
   "source": [
    "df.info()"
   ]
  },
  {
   "cell_type": "code",
   "execution_count": 5,
   "id": "e8ac9cef",
   "metadata": {},
   "outputs": [],
   "source": [
    "df = pd.read_csv('../DATA/RSCCASN.csv',parse_dates=True,index_col='DATE')"
   ]
  },
  {
   "cell_type": "code",
   "execution_count": 6,
   "id": "6d6bfcb1",
   "metadata": {},
   "outputs": [
    {
     "data": {
      "text/html": [
       "<div>\n",
       "<style scoped>\n",
       "    .dataframe tbody tr th:only-of-type {\n",
       "        vertical-align: middle;\n",
       "    }\n",
       "\n",
       "    .dataframe tbody tr th {\n",
       "        vertical-align: top;\n",
       "    }\n",
       "\n",
       "    .dataframe thead th {\n",
       "        text-align: right;\n",
       "    }\n",
       "</style>\n",
       "<table border=\"1\" class=\"dataframe\">\n",
       "  <thead>\n",
       "    <tr style=\"text-align: right;\">\n",
       "      <th></th>\n",
       "      <th>RSCCASN</th>\n",
       "    </tr>\n",
       "    <tr>\n",
       "      <th>DATE</th>\n",
       "      <th></th>\n",
       "    </tr>\n",
       "  </thead>\n",
       "  <tbody>\n",
       "    <tr>\n",
       "      <th>1992-01-01</th>\n",
       "      <td>6938</td>\n",
       "    </tr>\n",
       "    <tr>\n",
       "      <th>1992-02-01</th>\n",
       "      <td>7524</td>\n",
       "    </tr>\n",
       "    <tr>\n",
       "      <th>1992-03-01</th>\n",
       "      <td>8475</td>\n",
       "    </tr>\n",
       "    <tr>\n",
       "      <th>1992-04-01</th>\n",
       "      <td>9401</td>\n",
       "    </tr>\n",
       "    <tr>\n",
       "      <th>1992-05-01</th>\n",
       "      <td>9558</td>\n",
       "    </tr>\n",
       "    <tr>\n",
       "      <th>...</th>\n",
       "      <td>...</td>\n",
       "    </tr>\n",
       "    <tr>\n",
       "      <th>2019-06-01</th>\n",
       "      <td>21123</td>\n",
       "    </tr>\n",
       "    <tr>\n",
       "      <th>2019-07-01</th>\n",
       "      <td>21714</td>\n",
       "    </tr>\n",
       "    <tr>\n",
       "      <th>2019-08-01</th>\n",
       "      <td>23791</td>\n",
       "    </tr>\n",
       "    <tr>\n",
       "      <th>2019-09-01</th>\n",
       "      <td>19695</td>\n",
       "    </tr>\n",
       "    <tr>\n",
       "      <th>2019-10-01</th>\n",
       "      <td>21113</td>\n",
       "    </tr>\n",
       "  </tbody>\n",
       "</table>\n",
       "<p>334 rows × 1 columns</p>\n",
       "</div>"
      ],
      "text/plain": [
       "            RSCCASN\n",
       "DATE               \n",
       "1992-01-01     6938\n",
       "1992-02-01     7524\n",
       "1992-03-01     8475\n",
       "1992-04-01     9401\n",
       "1992-05-01     9558\n",
       "...             ...\n",
       "2019-06-01    21123\n",
       "2019-07-01    21714\n",
       "2019-08-01    23791\n",
       "2019-09-01    19695\n",
       "2019-10-01    21113\n",
       "\n",
       "[334 rows x 1 columns]"
      ]
     },
     "execution_count": 6,
     "metadata": {},
     "output_type": "execute_result"
    }
   ],
   "source": [
    "df"
   ]
  },
  {
   "cell_type": "code",
   "execution_count": 7,
   "id": "43d36a90",
   "metadata": {},
   "outputs": [
    {
     "name": "stdout",
     "output_type": "stream",
     "text": [
      "<class 'pandas.core.frame.DataFrame'>\n",
      "DatetimeIndex: 334 entries, 1992-01-01 to 2019-10-01\n",
      "Data columns (total 1 columns):\n",
      " #   Column   Non-Null Count  Dtype\n",
      "---  ------   --------------  -----\n",
      " 0   RSCCASN  334 non-null    int64\n",
      "dtypes: int64(1)\n",
      "memory usage: 5.2 KB\n"
     ]
    }
   ],
   "source": [
    "df.info()"
   ]
  },
  {
   "cell_type": "code",
   "execution_count": 9,
   "id": "5d4c1810",
   "metadata": {},
   "outputs": [],
   "source": [
    "df.columns=['Sales']"
   ]
  },
  {
   "cell_type": "code",
   "execution_count": 10,
   "id": "5e2ca04d",
   "metadata": {},
   "outputs": [
    {
     "data": {
      "text/plain": [
       "<AxesSubplot:xlabel='DATE'>"
      ]
     },
     "execution_count": 10,
     "metadata": {},
     "output_type": "execute_result"
    },
    {
     "data": {
      "image/png": "[encoded data removed]",
      "text/plain": [
       "<Figure size 864x576 with 1 Axes>"
      ]
     },
     "metadata": {
      "needs_background": "light"
     },
     "output_type": "display_data"
    }
   ],
   "source": [
    "df.plot(figsize=(12,8))"
   ]
  },
  {
   "cell_type": "code",
   "execution_count": 11,
   "id": "dd23483c",
   "metadata": {},
   "outputs": [
    {
     "data": {
      "text/plain": [
       "334"
      ]
     },
     "execution_count": 11,
     "metadata": {},
     "output_type": "execute_result"
    }
   ],
   "source": [
    "len(df)"
   ]
  },
  {
   "cell_type": "code",
   "execution_count": 13,
   "id": "d7287a99",
   "metadata": {},
   "outputs": [
    {
     "data": {
      "text/html": [
       "<div>\n",
       "<style scoped>\n",
       "    .dataframe tbody tr th:only-of-type {\n",
       "        vertical-align: middle;\n",
       "    }\n",
       "\n",
       "    .dataframe tbody tr th {\n",
       "        vertical-align: top;\n",
       "    }\n",
       "\n",
       "    .dataframe thead th {\n",
       "        text-align: right;\n",
       "    }\n",
       "</style>\n",
       "<table border=\"1\" class=\"dataframe\">\n",
       "  <thead>\n",
       "    <tr style=\"text-align: right;\">\n",
       "      <th></th>\n",
       "      <th>Sales</th>\n",
       "    </tr>\n",
       "    <tr>\n",
       "      <th>DATE</th>\n",
       "      <th></th>\n",
       "    </tr>\n",
       "  </thead>\n",
       "  <tbody>\n",
       "    <tr>\n",
       "      <th>1992-01-01</th>\n",
       "      <td>6938</td>\n",
       "    </tr>\n",
       "    <tr>\n",
       "      <th>1992-02-01</th>\n",
       "      <td>7524</td>\n",
       "    </tr>\n",
       "    <tr>\n",
       "      <th>1992-03-01</th>\n",
       "      <td>8475</td>\n",
       "    </tr>\n",
       "    <tr>\n",
       "      <th>1992-04-01</th>\n",
       "      <td>9401</td>\n",
       "    </tr>\n",
       "    <tr>\n",
       "      <th>1992-05-01</th>\n",
       "      <td>9558</td>\n",
       "    </tr>\n",
       "    <tr>\n",
       "      <th>1992-06-01</th>\n",
       "      <td>9182</td>\n",
       "    </tr>\n",
       "    <tr>\n",
       "      <th>1992-07-01</th>\n",
       "      <td>9103</td>\n",
       "    </tr>\n",
       "    <tr>\n",
       "      <th>1992-08-01</th>\n",
       "      <td>10513</td>\n",
       "    </tr>\n",
       "    <tr>\n",
       "      <th>1992-09-01</th>\n",
       "      <td>9573</td>\n",
       "    </tr>\n",
       "    <tr>\n",
       "      <th>1992-10-01</th>\n",
       "      <td>10254</td>\n",
       "    </tr>\n",
       "    <tr>\n",
       "      <th>1992-11-01</th>\n",
       "      <td>11187</td>\n",
       "    </tr>\n",
       "    <tr>\n",
       "      <th>1992-12-01</th>\n",
       "      <td>18395</td>\n",
       "    </tr>\n",
       "    <tr>\n",
       "      <th>1993-01-01</th>\n",
       "      <td>7502</td>\n",
       "    </tr>\n",
       "  </tbody>\n",
       "</table>\n",
       "</div>"
      ],
      "text/plain": [
       "            Sales\n",
       "DATE             \n",
       "1992-01-01   6938\n",
       "1992-02-01   7524\n",
       "1992-03-01   8475\n",
       "1992-04-01   9401\n",
       "1992-05-01   9558\n",
       "1992-06-01   9182\n",
       "1992-07-01   9103\n",
       "1992-08-01  10513\n",
       "1992-09-01   9573\n",
       "1992-10-01  10254\n",
       "1992-11-01  11187\n",
       "1992-12-01  18395\n",
       "1993-01-01   7502"
      ]
     },
     "execution_count": 13,
     "metadata": {},
     "output_type": "execute_result"
    }
   ],
   "source": [
    "df.head(13)"
   ]
  },
  {
   "cell_type": "code",
   "execution_count": 14,
   "id": "a5c3c7a5",
   "metadata": {},
   "outputs": [
    {
     "data": {
      "text/plain": [
       "316"
      ]
     },
     "execution_count": 14,
     "metadata": {},
     "output_type": "execute_result"
    }
   ],
   "source": [
    "len(df)-18"
   ]
  },
  {
   "cell_type": "code",
   "execution_count": 15,
   "id": "c0712e62",
   "metadata": {},
   "outputs": [],
   "source": [
    "test_size = 18\n",
    "test_indx = len(df)-test_size"
   ]
  },
  {
   "cell_type": "code",
   "execution_count": 16,
   "id": "dde6cc89",
   "metadata": {},
   "outputs": [
    {
     "data": {
      "text/plain": [
       "316"
      ]
     },
     "execution_count": 16,
     "metadata": {},
     "output_type": "execute_result"
    }
   ],
   "source": [
    "test_indx"
   ]
  },
  {
   "cell_type": "code",
   "execution_count": 17,
   "id": "5fc99d5a",
   "metadata": {},
   "outputs": [],
   "source": [
    "train = df.iloc[:test_indx]\n",
    "test = df.iloc[test_indx:]"
   ]
  },
  {
   "cell_type": "code",
   "execution_count": 18,
   "id": "b39073f9",
   "metadata": {},
   "outputs": [
    {
     "data": {
      "text/html": [
       "<div>\n",
       "<style scoped>\n",
       "    .dataframe tbody tr th:only-of-type {\n",
       "        vertical-align: middle;\n",
       "    }\n",
       "\n",
       "    .dataframe tbody tr th {\n",
       "        vertical-align: top;\n",
       "    }\n",
       "\n",
       "    .dataframe thead th {\n",
       "        text-align: right;\n",
       "    }\n",
       "</style>\n",
       "<table border=\"1\" class=\"dataframe\">\n",
       "  <thead>\n",
       "    <tr style=\"text-align: right;\">\n",
       "      <th></th>\n",
       "      <th>Sales</th>\n",
       "    </tr>\n",
       "    <tr>\n",
       "      <th>DATE</th>\n",
       "      <th></th>\n",
       "    </tr>\n",
       "  </thead>\n",
       "  <tbody>\n",
       "    <tr>\n",
       "      <th>1992-01-01</th>\n",
       "      <td>6938</td>\n",
       "    </tr>\n",
       "    <tr>\n",
       "      <th>1992-02-01</th>\n",
       "      <td>7524</td>\n",
       "    </tr>\n",
       "    <tr>\n",
       "      <th>1992-03-01</th>\n",
       "      <td>8475</td>\n",
       "    </tr>\n",
       "    <tr>\n",
       "      <th>1992-04-01</th>\n",
       "      <td>9401</td>\n",
       "    </tr>\n",
       "    <tr>\n",
       "      <th>1992-05-01</th>\n",
       "      <td>9558</td>\n",
       "    </tr>\n",
       "    <tr>\n",
       "      <th>...</th>\n",
       "      <td>...</td>\n",
       "    </tr>\n",
       "    <tr>\n",
       "      <th>2017-12-01</th>\n",
       "      <td>33720</td>\n",
       "    </tr>\n",
       "    <tr>\n",
       "      <th>2018-01-01</th>\n",
       "      <td>15881</td>\n",
       "    </tr>\n",
       "    <tr>\n",
       "      <th>2018-02-01</th>\n",
       "      <td>18585</td>\n",
       "    </tr>\n",
       "    <tr>\n",
       "      <th>2018-03-01</th>\n",
       "      <td>22404</td>\n",
       "    </tr>\n",
       "    <tr>\n",
       "      <th>2018-04-01</th>\n",
       "      <td>20616</td>\n",
       "    </tr>\n",
       "  </tbody>\n",
       "</table>\n",
       "<p>316 rows × 1 columns</p>\n",
       "</div>"
      ],
      "text/plain": [
       "            Sales\n",
       "DATE             \n",
       "1992-01-01   6938\n",
       "1992-02-01   7524\n",
       "1992-03-01   8475\n",
       "1992-04-01   9401\n",
       "1992-05-01   9558\n",
       "...           ...\n",
       "2017-12-01  33720\n",
       "2018-01-01  15881\n",
       "2018-02-01  18585\n",
       "2018-03-01  22404\n",
       "2018-04-01  20616\n",
       "\n",
       "[316 rows x 1 columns]"
      ]
     },
     "execution_count": 18,
     "metadata": {},
     "output_type": "execute_result"
    }
   ],
   "source": [
    "train"
   ]
  },
  {
   "cell_type": "code",
   "execution_count": 20,
   "id": "6e1650fe",
   "metadata": {},
   "outputs": [
    {
     "data": {
      "text/plain": [
       "18"
      ]
     },
     "execution_count": 20,
     "metadata": {},
     "output_type": "execute_result"
    }
   ],
   "source": [
    "len(test)"
   ]
  },
  {
   "cell_type": "code",
   "execution_count": 21,
   "id": "b2ebc461",
   "metadata": {},
   "outputs": [
    {
     "data": {
      "text/html": [
       "<div>\n",
       "<style scoped>\n",
       "    .dataframe tbody tr th:only-of-type {\n",
       "        vertical-align: middle;\n",
       "    }\n",
       "\n",
       "    .dataframe tbody tr th {\n",
       "        vertical-align: top;\n",
       "    }\n",
       "\n",
       "    .dataframe thead th {\n",
       "        text-align: right;\n",
       "    }\n",
       "</style>\n",
       "<table border=\"1\" class=\"dataframe\">\n",
       "  <thead>\n",
       "    <tr style=\"text-align: right;\">\n",
       "      <th></th>\n",
       "      <th>Sales</th>\n",
       "    </tr>\n",
       "    <tr>\n",
       "      <th>DATE</th>\n",
       "      <th></th>\n",
       "    </tr>\n",
       "  </thead>\n",
       "  <tbody>\n",
       "    <tr>\n",
       "      <th>2018-05-01</th>\n",
       "      <td>23764</td>\n",
       "    </tr>\n",
       "    <tr>\n",
       "      <th>2018-06-01</th>\n",
       "      <td>21589</td>\n",
       "    </tr>\n",
       "    <tr>\n",
       "      <th>2018-07-01</th>\n",
       "      <td>21919</td>\n",
       "    </tr>\n",
       "    <tr>\n",
       "      <th>2018-08-01</th>\n",
       "      <td>23381</td>\n",
       "    </tr>\n",
       "    <tr>\n",
       "      <th>2018-09-01</th>\n",
       "      <td>20260</td>\n",
       "    </tr>\n",
       "    <tr>\n",
       "      <th>2018-10-01</th>\n",
       "      <td>21473</td>\n",
       "    </tr>\n",
       "    <tr>\n",
       "      <th>2018-11-01</th>\n",
       "      <td>25831</td>\n",
       "    </tr>\n",
       "    <tr>\n",
       "      <th>2018-12-01</th>\n",
       "      <td>34706</td>\n",
       "    </tr>\n",
       "    <tr>\n",
       "      <th>2019-01-01</th>\n",
       "      <td>16410</td>\n",
       "    </tr>\n",
       "    <tr>\n",
       "      <th>2019-02-01</th>\n",
       "      <td>18134</td>\n",
       "    </tr>\n",
       "    <tr>\n",
       "      <th>2019-03-01</th>\n",
       "      <td>22093</td>\n",
       "    </tr>\n",
       "    <tr>\n",
       "      <th>2019-04-01</th>\n",
       "      <td>21597</td>\n",
       "    </tr>\n",
       "    <tr>\n",
       "      <th>2019-05-01</th>\n",
       "      <td>23200</td>\n",
       "    </tr>\n",
       "    <tr>\n",
       "      <th>2019-06-01</th>\n",
       "      <td>21123</td>\n",
       "    </tr>\n",
       "    <tr>\n",
       "      <th>2019-07-01</th>\n",
       "      <td>21714</td>\n",
       "    </tr>\n",
       "    <tr>\n",
       "      <th>2019-08-01</th>\n",
       "      <td>23791</td>\n",
       "    </tr>\n",
       "    <tr>\n",
       "      <th>2019-09-01</th>\n",
       "      <td>19695</td>\n",
       "    </tr>\n",
       "    <tr>\n",
       "      <th>2019-10-01</th>\n",
       "      <td>21113</td>\n",
       "    </tr>\n",
       "  </tbody>\n",
       "</table>\n",
       "</div>"
      ],
      "text/plain": [
       "            Sales\n",
       "DATE             \n",
       "2018-05-01  23764\n",
       "2018-06-01  21589\n",
       "2018-07-01  21919\n",
       "2018-08-01  23381\n",
       "2018-09-01  20260\n",
       "2018-10-01  21473\n",
       "2018-11-01  25831\n",
       "2018-12-01  34706\n",
       "2019-01-01  16410\n",
       "2019-02-01  18134\n",
       "2019-03-01  22093\n",
       "2019-04-01  21597\n",
       "2019-05-01  23200\n",
       "2019-06-01  21123\n",
       "2019-07-01  21714\n",
       "2019-08-01  23791\n",
       "2019-09-01  19695\n",
       "2019-10-01  21113"
      ]
     },
     "execution_count": 21,
     "metadata": {},
     "output_type": "execute_result"
    }
   ],
   "source": [
    "test"
   ]
  },
  {
   "cell_type": "code",
   "execution_count": 22,
   "id": "b2c6a223",
   "metadata": {},
   "outputs": [],
   "source": [
    "from sklearn.preprocessing import MinMaxScaler"
   ]
  },
  {
   "cell_type": "code",
   "execution_count": 23,
   "id": "376d0f97",
   "metadata": {},
   "outputs": [],
   "source": [
    "scaler = MinMaxScaler()"
   ]
  },
  {
   "cell_type": "code",
   "execution_count": 24,
   "id": "724830f0",
   "metadata": {},
   "outputs": [
    {
     "data": {
      "text/plain": [
       "MinMaxScaler()"
      ]
     },
     "execution_count": 24,
     "metadata": {},
     "output_type": "execute_result"
    }
   ],
   "source": [
    "scaler.fit(train)"
   ]
  },
  {
   "cell_type": "code",
   "execution_count": 25,
   "id": "06b2779e",
   "metadata": {},
   "outputs": [],
   "source": [
    "scaled_train = scaler.transform(train)\n",
    "scaled_test = scaler.transform(test)"
   ]
  },
  {
   "cell_type": "code",
   "execution_count": 26,
   "id": "8d9b966f",
   "metadata": {},
   "outputs": [],
   "source": [
    "from tensorflow.keras.preprocessing.sequence import TimeseriesGenerator"
   ]
  },
  {
   "cell_type": "code",
   "execution_count": 27,
   "id": "92d785b3",
   "metadata": {},
   "outputs": [
    {
     "data": {
      "text/plain": [
       "18"
      ]
     },
     "execution_count": 27,
     "metadata": {},
     "output_type": "execute_result"
    }
   ],
   "source": [
    "len(test)"
   ]
  },
  {
   "cell_type": "code",
   "execution_count": 41,
   "id": "be4e247a",
   "metadata": {},
   "outputs": [],
   "source": [
    "#training generator\n",
    "length = 12 #actually represent batches\n",
    "generator = TimeseriesGenerator(scaled_train,scaled_train,length=length,batch_size=1)"
   ]
  },
  {
   "cell_type": "code",
   "execution_count": 42,
   "id": "5bb94ab8",
   "metadata": {},
   "outputs": [],
   "source": [
    "X,y = generator[0]"
   ]
  },
  {
   "cell_type": "code",
   "execution_count": 43,
   "id": "12924979",
   "metadata": {},
   "outputs": [
    {
     "data": {
      "text/plain": [
       "array([[[0.        ],\n",
       "        [0.02127505],\n",
       "        [0.05580163],\n",
       "        [0.08942056],\n",
       "        [0.09512053],\n",
       "        [0.08146965],\n",
       "        [0.07860151],\n",
       "        [0.12979233],\n",
       "        [0.09566512],\n",
       "        [0.1203892 ],\n",
       "        [0.15426227],\n",
       "        [0.41595266]]])"
      ]
     },
     "execution_count": 43,
     "metadata": {},
     "output_type": "execute_result"
    }
   ],
   "source": [
    "X"
   ]
  },
  {
   "cell_type": "code",
   "execution_count": 44,
   "id": "1fc3327e",
   "metadata": {},
   "outputs": [
    {
     "data": {
      "text/plain": [
       "12"
      ]
     },
     "execution_count": 44,
     "metadata": {},
     "output_type": "execute_result"
    }
   ],
   "source": [
    "len(X[0])"
   ]
  },
  {
   "cell_type": "code",
   "execution_count": 45,
   "id": "5223fffd",
   "metadata": {},
   "outputs": [
    {
     "data": {
      "text/plain": [
       "array([[0.02047633]])"
      ]
     },
     "execution_count": 45,
     "metadata": {},
     "output_type": "execute_result"
    }
   ],
   "source": [
    "y"
   ]
  },
  {
   "cell_type": "code",
   "execution_count": 46,
   "id": "e0792d8b",
   "metadata": {},
   "outputs": [
    {
     "data": {
      "text/plain": [
       "array([[0.        ],\n",
       "       [0.02127505],\n",
       "       [0.05580163],\n",
       "       [0.08942056],\n",
       "       [0.09512053],\n",
       "       [0.08146965],\n",
       "       [0.07860151],\n",
       "       [0.12979233],\n",
       "       [0.09566512],\n",
       "       [0.1203892 ],\n",
       "       [0.15426227],\n",
       "       [0.41595266],\n",
       "       [0.02047633],\n",
       "       [0.02127505],\n",
       "       [0.06636654],\n",
       "       [0.10633895],\n",
       "       [0.11345484],\n",
       "       [0.09791606],\n",
       "       [0.10368864],\n",
       "       [0.13396747],\n",
       "       [0.11163956],\n",
       "       [0.12372931],\n",
       "       [0.17506535],\n",
       "       [0.43250799],\n",
       "       [0.0124165 ],\n",
       "       [0.03499855],\n",
       "       [0.10829945],\n",
       "       [0.10641156],\n",
       "       [0.11149434],\n",
       "       [0.10728289],\n",
       "       [0.10154662],\n",
       "       [0.1531731 ],\n",
       "       [0.11904589],\n",
       "       [0.13767064],\n",
       "       [0.19663085],\n",
       "       [0.47480395],\n",
       "       [0.02105722],\n",
       "       [0.03714058],\n",
       "       [0.10445106],\n",
       "       [0.11726692],\n",
       "       [0.13367703],\n",
       "       [0.12209556],\n",
       "       [0.10332559],\n",
       "       [0.1570578 ],\n",
       "       [0.13694453],\n",
       "       [0.12710572],\n",
       "       [0.21104415],\n",
       "       [0.47429567],\n",
       "       [0.02708394],\n",
       "       [0.07453529],\n",
       "       [0.12383822],\n",
       "       [0.13186175],\n",
       "       [0.16217688],\n",
       "       [0.13128086],\n",
       "       [0.11850131],\n",
       "       [0.18864362],\n",
       "       [0.13378594],\n",
       "       [0.15654952],\n",
       "       [0.21554604],\n",
       "       [0.47218995],\n",
       "       [0.04559977],\n",
       "       [0.06887162],\n",
       "       [0.14166425],\n",
       "       [0.11592361],\n",
       "       [0.16580744],\n",
       "       [0.13491141],\n",
       "       [0.13781586],\n",
       "       [0.20051554],\n",
       "       [0.14536741],\n",
       "       [0.17052716],\n",
       "       [0.22894278],\n",
       "       [0.51481266],\n",
       "       [0.06760093],\n",
       "       [0.09297851],\n",
       "       [0.14249927],\n",
       "       [0.17742521],\n",
       "       [0.19245571],\n",
       "       [0.16384694],\n",
       "       [0.17045455],\n",
       "       [0.21903137],\n",
       "       [0.15524252],\n",
       "       [0.19772001],\n",
       "       [0.25108917],\n",
       "       [0.56200988],\n",
       "       [0.08346645],\n",
       "       [0.11737584],\n",
       "       [0.18671943],\n",
       "       [0.19779262],\n",
       "       [0.22614726],\n",
       "       [0.19394423],\n",
       "       [0.20051554],\n",
       "       [0.2467325 ],\n",
       "       [0.19673976],\n",
       "       [0.21819634],\n",
       "       [0.27973424],\n",
       "       [0.62982864],\n",
       "       [0.09109062],\n",
       "       [0.15364508],\n",
       "       [0.21431165],\n",
       "       [0.22458612],\n",
       "       [0.24676881],\n",
       "       [0.21837787],\n",
       "       [0.20193146],\n",
       "       [0.27853616],\n",
       "       [0.23369881],\n",
       "       [0.23348098],\n",
       "       [0.31720157],\n",
       "       [0.65121261],\n",
       "       [0.11334592],\n",
       "       [0.16381063],\n",
       "       [0.2225167 ],\n",
       "       [0.23322684],\n",
       "       [0.24865669],\n",
       "       [0.21772437],\n",
       "       [0.20556201],\n",
       "       [0.28608771],\n",
       "       [0.18755446],\n",
       "       [0.22799884],\n",
       "       [0.30547488],\n",
       "       [0.63883241],\n",
       "       [0.12365669],\n",
       "       [0.17397618],\n",
       "       [0.25555475],\n",
       "       [0.22716381],\n",
       "       [0.26183561],\n",
       "       [0.22770839],\n",
       "       [0.21547342],\n",
       "       [0.29679785],\n",
       "       [0.19993465],\n",
       "       [0.25660761],\n",
       "       [0.32576968],\n",
       "       [0.66845774],\n",
       "       [0.14035725],\n",
       "       [0.17150741],\n",
       "       [0.23649434],\n",
       "       [0.24517136],\n",
       "       [0.28289283],\n",
       "       [0.23809178],\n",
       "       [0.25108917],\n",
       "       [0.31164682],\n",
       "       [0.24066947],\n",
       "       [0.27820941],\n",
       "       [0.34915045],\n",
       "       [0.71964856],\n",
       "       [0.17615452],\n",
       "       [0.23257334],\n",
       "       [0.28398199],\n",
       "       [0.29480105],\n",
       "       [0.30645513],\n",
       "       [0.26499419],\n",
       "       [0.28060558],\n",
       "       [0.31404299],\n",
       "       [0.26452222],\n",
       "       [0.31338949],\n",
       "       [0.37365669],\n",
       "       [0.77940749],\n",
       "       [0.18544874],\n",
       "       [0.2519605 ],\n",
       "       [0.31908946],\n",
       "       [0.31839965],\n",
       "       [0.32860151],\n",
       "       [0.31299012],\n",
       "       [0.30060993],\n",
       "       [0.35430584],\n",
       "       [0.2912431 ],\n",
       "       [0.3474804 ],\n",
       "       [0.4162068 ],\n",
       "       [0.84729887],\n",
       "       [0.21619954],\n",
       "       [0.27359861],\n",
       "       [0.34301481],\n",
       "       [0.35978798],\n",
       "       [0.36904589],\n",
       "       [0.34733517],\n",
       "       [0.3389849 ],\n",
       "       [0.39551263],\n",
       "       [0.35684723],\n",
       "       [0.37449172],\n",
       "       [0.45211298],\n",
       "       [0.89035725],\n",
       "       [0.25373947],\n",
       "       [0.29549085],\n",
       "       [0.40324572],\n",
       "       [0.36879175],\n",
       "       [0.4188208 ],\n",
       "       [0.37579872],\n",
       "       [0.36105867],\n",
       "       [0.43247168],\n",
       "       [0.35677462],\n",
       "       [0.38759802],\n",
       "       [0.49419111],\n",
       "       [0.86033256],\n",
       "       [0.26267064],\n",
       "       [0.32449898],\n",
       "       [0.39326169],\n",
       "       [0.36904589],\n",
       "       [0.44096718],\n",
       "       [0.36556056],\n",
       "       [0.37870317],\n",
       "       [0.43940604],\n",
       "       [0.32471682],\n",
       "       [0.35790009],\n",
       "       [0.42905896],\n",
       "       [0.71841417],\n",
       "       [0.23413448],\n",
       "       [0.28122277],\n",
       "       [0.31313535],\n",
       "       [0.34123584],\n",
       "       [0.37489108],\n",
       "       [0.30845193],\n",
       "       [0.32925501],\n",
       "       [0.38912286],\n",
       "       [0.31556782],\n",
       "       [0.36723061],\n",
       "       [0.41366541],\n",
       "       [0.733009  ],\n",
       "       [0.22792623],\n",
       "       [0.2860151 ],\n",
       "       [0.37946558],\n",
       "       [0.36683125],\n",
       "       [0.39170055],\n",
       "       [0.33401104],\n",
       "       [0.35957014],\n",
       "       [0.39881644],\n",
       "       [0.33742376],\n",
       "       [0.3802643 ],\n",
       "       [0.47433198],\n",
       "       [0.78445396],\n",
       "       [0.24560703],\n",
       "       [0.32649579],\n",
       "       [0.41076096],\n",
       "       [0.42510166],\n",
       "       [0.42960354],\n",
       "       [0.39373366],\n",
       "       [0.39932472],\n",
       "       [0.44746587],\n",
       "       [0.40157566],\n",
       "       [0.41086988],\n",
       "       [0.50896747],\n",
       "       [0.87750508],\n",
       "       [0.26938716],\n",
       "       [0.39910688],\n",
       "       [0.48010456],\n",
       "       [0.4234316 ],\n",
       "       [0.4724804 ],\n",
       "       [0.42764304],\n",
       "       [0.41126924],\n",
       "       [0.50145222],\n",
       "       [0.41580744],\n",
       "       [0.43229015],\n",
       "       [0.54741505],\n",
       "       [0.89188208],\n",
       "       [0.29832268],\n",
       "       [0.37917514],\n",
       "       [0.49509875],\n",
       "       [0.44430729],\n",
       "       [0.50254139],\n",
       "       [0.43570288],\n",
       "       [0.44430729],\n",
       "       [0.5307871 ],\n",
       "       [0.40564188],\n",
       "       [0.46895876],\n",
       "       [0.56269968],\n",
       "       [0.89456869],\n",
       "       [0.29919402],\n",
       "       [0.38371333],\n",
       "       [0.47676445],\n",
       "       [0.48591345],\n",
       "       [0.53115016],\n",
       "       [0.43599332],\n",
       "       [0.46797851],\n",
       "       [0.54658002],\n",
       "       [0.42506535],\n",
       "       [0.48221028],\n",
       "       [0.60096573],\n",
       "       [0.93305257],\n",
       "       [0.32043276],\n",
       "       [0.40088586],\n",
       "       [0.50152483],\n",
       "       [0.48834592],\n",
       "       [0.55209846],\n",
       "       [0.46213331],\n",
       "       [0.49469939],\n",
       "       [0.5582341 ],\n",
       "       [0.44339965],\n",
       "       [0.4973497 ],\n",
       "       [0.5864072 ],\n",
       "       [0.95872059],\n",
       "       [0.31789137],\n",
       "       [0.43570288],\n",
       "       [0.52839094],\n",
       "       [0.48976184],\n",
       "       [0.53434505],\n",
       "       [0.48003195],\n",
       "       [0.49843886],\n",
       "       [0.56092071],\n",
       "       [0.4665989 ],\n",
       "       [0.49237584],\n",
       "       [0.60652048],\n",
       "       [1.        ],\n",
       "       [0.3167659 ],\n",
       "       [0.39235405],\n",
       "       [0.51154516],\n",
       "       [0.50515539],\n",
       "       [0.53252977],\n",
       "       [0.48591345],\n",
       "       [0.49364653],\n",
       "       [0.56629393],\n",
       "       [0.46405751],\n",
       "       [0.48536886],\n",
       "       [0.63534708],\n",
       "       [0.97233517],\n",
       "       [0.32468051],\n",
       "       [0.42285071],\n",
       "       [0.5615016 ],\n",
       "       [0.49658728]])"
      ]
     },
     "execution_count": 46,
     "metadata": {},
     "output_type": "execute_result"
    }
   ],
   "source": [
    "scaled_train"
   ]
  },
  {
   "cell_type": "code",
   "execution_count": 47,
   "id": "64a51154",
   "metadata": {},
   "outputs": [],
   "source": [
    "from tensorflow.keras.models import Sequential\n",
    "from tensorflow.keras.layers import Dense,SimpleRNN,LSTM"
   ]
  },
  {
   "cell_type": "code",
   "execution_count": 48,
   "id": "6ebbbbcf",
   "metadata": {},
   "outputs": [],
   "source": [
    "n_features = 1"
   ]
  },
  {
   "cell_type": "code",
   "execution_count": 49,
   "id": "a4169917",
   "metadata": {},
   "outputs": [],
   "source": [
    "model = Sequential()\n",
    "model.add(LSTM(100,activation='relu',input_shape=(length,n_features)))\n",
    "model.add(Dense(1))\n",
    "model.compile(optimizer='adam',loss='mse')"
   ]
  },
  {
   "cell_type": "code",
   "execution_count": 50,
   "id": "1ae40033",
   "metadata": {},
   "outputs": [
    {
     "name": "stdout",
     "output_type": "stream",
     "text": [
      "Model: \"sequential\"\n",
      "_________________________________________________________________\n",
      " Layer (type)                Output Shape              Param #   \n",
      "=================================================================\n",
      " lstm (LSTM)                 (None, 100)               40800     \n",
      "                                                                 \n",
      " dense (Dense)               (None, 1)                 101       \n",
      "                                                                 \n",
      "=================================================================\n",
      "Total params: 40,901\n",
      "Trainable params: 40,901\n",
      "Non-trainable params: 0\n",
      "_________________________________________________________________\n"
     ]
    }
   ],
   "source": [
    "model.summary()"
   ]
  },
  {
   "cell_type": "code",
   "execution_count": 56,
   "id": "ae766211",
   "metadata": {},
   "outputs": [],
   "source": [
    "from tensorflow.keras.callbacks import EarlyStopping"
   ]
  },
  {
   "cell_type": "code",
   "execution_count": 57,
   "id": "c33a93b0",
   "metadata": {},
   "outputs": [],
   "source": [
    "early_stop = EarlyStopping(monitor='val_loss',patience=3)"
   ]
  },
  {
   "cell_type": "code",
   "execution_count": 58,
   "id": "5b919a6c",
   "metadata": {},
   "outputs": [],
   "source": [
    "validation_generator = TimeseriesGenerator(scaled_test,scaled_test,length=length,batch_size=1)"
   ]
  },
  {
   "cell_type": "code",
   "execution_count": 59,
   "id": "eed4d8d4",
   "metadata": {},
   "outputs": [
    {
     "name": "stdout",
     "output_type": "stream",
     "text": [
      "Epoch 1/20\n",
      "304/304 [==============================] - 2s 5ms/step - loss: 0.0057 - val_loss: 0.0019\n",
      "Epoch 2/20\n",
      "304/304 [==============================] - 1s 5ms/step - loss: 0.0035 - val_loss: 8.9819e-04\n",
      "Epoch 3/20\n",
      "304/304 [==============================] - 1s 5ms/step - loss: 0.0017 - val_loss: 1.8899e-04\n",
      "Epoch 4/20\n",
      "304/304 [==============================] - 1s 5ms/step - loss: 0.0034 - val_loss: 0.0166\n",
      "Epoch 5/20\n",
      "304/304 [==============================] - 1s 5ms/step - loss: 0.0018 - val_loss: 3.0437e-04\n",
      "Epoch 6/20\n",
      "304/304 [==============================] - 1s 5ms/step - loss: 0.0013 - val_loss: 3.7558e-04\n"
     ]
    },
    {
     "data": {
      "text/plain": [
       "<keras.callbacks.History at 0x2297e64d100>"
      ]
     },
     "execution_count": 59,
     "metadata": {},
     "output_type": "execute_result"
    }
   ],
   "source": [
    "model.fit(generator,epochs=20,validation_data=validation_generator,callbacks=[early_stop])"
   ]
  },
  {
   "cell_type": "code",
   "execution_count": 60,
   "id": "98cf6b27",
   "metadata": {},
   "outputs": [],
   "source": [
    "losses = pd.DataFrame(model.history.history)"
   ]
  },
  {
   "cell_type": "code",
   "execution_count": 61,
   "id": "062d22b6",
   "metadata": {},
   "outputs": [
    {
     "data": {
      "text/plain": [
       "<AxesSubplot:>"
      ]
     },
     "execution_count": 61,
     "metadata": {},
     "output_type": "execute_result"
    },
    {
     "data": {
      "image/png": "[encoded data removed]",
      "text/plain": [
       "<Figure size 432x288 with 1 Axes>"
      ]
     },
     "metadata": {
      "needs_background": "light"
     },
     "output_type": "display_data"
    }
   ],
   "source": [
    "losses.plot()"
   ]
  },
  {
   "cell_type": "code",
   "execution_count": 62,
   "id": "2f04d7e6",
   "metadata": {},
   "outputs": [],
   "source": [
    "test_prediction =[]\n",
    "\n",
    "first_eval_batch = scaled_train[-length:]\n",
    "current_batch = first_eval_batch.reshape((1,length,n_features))\n",
    "\n",
    "for i in range(len(test)):\n",
    "    current_pred = model.predict(current_batch)[0]\n",
    "    test_prediction.append(current_pred)\n",
    "    current_batch = np.append(current_batch[:,1:,:],[[current_pred]],axis=1)"
   ]
  },
  {
   "cell_type": "code",
   "execution_count": 63,
   "id": "2bf9f2c6",
   "metadata": {},
   "outputs": [
    {
     "name": "stderr",
     "output_type": "stream",
     "text": [
      "<ipython-input-63-0c958acb94db>:2: SettingWithCopyWarning: \n",
      "A value is trying to be set on a copy of a slice from a DataFrame.\n",
      "Try using .loc[row_indexer,col_indexer] = value instead\n",
      "\n",
      "See the caveats in the documentation: https://pandas.pydata.org/pandas-docs/stable/user_guide/indexing.html#returning-a-view-versus-a-copy\n",
      "  test['Predictions'] = true_prediction\n"
     ]
    }
   ],
   "source": [
    "true_prediction = scaler.inverse_transform(test_prediction)\n",
    "test['Predictions'] = true_prediction\n"
   ]
  },
  {
   "cell_type": "code",
   "execution_count": 64,
   "id": "b98cf40b",
   "metadata": {},
   "outputs": [
    {
     "data": {
      "text/html": [
       "<div>\n",
       "<style scoped>\n",
       "    .dataframe tbody tr th:only-of-type {\n",
       "        vertical-align: middle;\n",
       "    }\n",
       "\n",
       "    .dataframe tbody tr th {\n",
       "        vertical-align: top;\n",
       "    }\n",
       "\n",
       "    .dataframe thead th {\n",
       "        text-align: right;\n",
       "    }\n",
       "</style>\n",
       "<table border=\"1\" class=\"dataframe\">\n",
       "  <thead>\n",
       "    <tr style=\"text-align: right;\">\n",
       "      <th></th>\n",
       "      <th>Sales</th>\n",
       "      <th>Predictions</th>\n",
       "    </tr>\n",
       "    <tr>\n",
       "      <th>DATE</th>\n",
       "      <th></th>\n",
       "      <th></th>\n",
       "    </tr>\n",
       "  </thead>\n",
       "  <tbody>\n",
       "    <tr>\n",
       "      <th>2018-05-01</th>\n",
       "      <td>23764</td>\n",
       "      <td>21537.529182</td>\n",
       "    </tr>\n",
       "    <tr>\n",
       "      <th>2018-06-01</th>\n",
       "      <td>21589</td>\n",
       "      <td>20481.668647</td>\n",
       "    </tr>\n",
       "    <tr>\n",
       "      <th>2018-07-01</th>\n",
       "      <td>21919</td>\n",
       "      <td>20705.976891</td>\n",
       "    </tr>\n",
       "    <tr>\n",
       "      <th>2018-08-01</th>\n",
       "      <td>23381</td>\n",
       "      <td>22376.415993</td>\n",
       "    </tr>\n",
       "    <tr>\n",
       "      <th>2018-09-01</th>\n",
       "      <td>20260</td>\n",
       "      <td>20051.316631</td>\n",
       "    </tr>\n",
       "    <tr>\n",
       "      <th>2018-10-01</th>\n",
       "      <td>21473</td>\n",
       "      <td>20650.328942</td>\n",
       "    </tr>\n",
       "    <tr>\n",
       "      <th>2018-11-01</th>\n",
       "      <td>25831</td>\n",
       "      <td>24269.130852</td>\n",
       "    </tr>\n",
       "    <tr>\n",
       "      <th>2018-12-01</th>\n",
       "      <td>34706</td>\n",
       "      <td>33274.395765</td>\n",
       "    </tr>\n",
       "    <tr>\n",
       "      <th>2019-01-01</th>\n",
       "      <td>16410</td>\n",
       "      <td>16554.654380</td>\n",
       "    </tr>\n",
       "    <tr>\n",
       "      <th>2019-02-01</th>\n",
       "      <td>18134</td>\n",
       "      <td>19034.949221</td>\n",
       "    </tr>\n",
       "    <tr>\n",
       "      <th>2019-03-01</th>\n",
       "      <td>22093</td>\n",
       "      <td>22192.300260</td>\n",
       "    </tr>\n",
       "    <tr>\n",
       "      <th>2019-04-01</th>\n",
       "      <td>21597</td>\n",
       "      <td>20690.671673</td>\n",
       "    </tr>\n",
       "    <tr>\n",
       "      <th>2019-05-01</th>\n",
       "      <td>23200</td>\n",
       "      <td>21482.172644</td>\n",
       "    </tr>\n",
       "    <tr>\n",
       "      <th>2019-06-01</th>\n",
       "      <td>21123</td>\n",
       "      <td>20609.889348</td>\n",
       "    </tr>\n",
       "    <tr>\n",
       "      <th>2019-07-01</th>\n",
       "      <td>21714</td>\n",
       "      <td>20836.917151</td>\n",
       "    </tr>\n",
       "    <tr>\n",
       "      <th>2019-08-01</th>\n",
       "      <td>23791</td>\n",
       "      <td>22237.878532</td>\n",
       "    </tr>\n",
       "    <tr>\n",
       "      <th>2019-09-01</th>\n",
       "      <td>19695</td>\n",
       "      <td>20301.722139</td>\n",
       "    </tr>\n",
       "    <tr>\n",
       "      <th>2019-10-01</th>\n",
       "      <td>21113</td>\n",
       "      <td>20910.454432</td>\n",
       "    </tr>\n",
       "  </tbody>\n",
       "</table>\n",
       "</div>"
      ],
      "text/plain": [
       "            Sales   Predictions\n",
       "DATE                           \n",
       "2018-05-01  23764  21537.529182\n",
       "2018-06-01  21589  20481.668647\n",
       "2018-07-01  21919  20705.976891\n",
       "2018-08-01  23381  22376.415993\n",
       "2018-09-01  20260  20051.316631\n",
       "2018-10-01  21473  20650.328942\n",
       "2018-11-01  25831  24269.130852\n",
       "2018-12-01  34706  33274.395765\n",
       "2019-01-01  16410  16554.654380\n",
       "2019-02-01  18134  19034.949221\n",
       "2019-03-01  22093  22192.300260\n",
       "2019-04-01  21597  20690.671673\n",
       "2019-05-01  23200  21482.172644\n",
       "2019-06-01  21123  20609.889348\n",
       "2019-07-01  21714  20836.917151\n",
       "2019-08-01  23791  22237.878532\n",
       "2019-09-01  19695  20301.722139\n",
       "2019-10-01  21113  20910.454432"
      ]
     },
     "execution_count": 64,
     "metadata": {},
     "output_type": "execute_result"
    }
   ],
   "source": [
    "test"
   ]
  },
  {
   "cell_type": "code",
   "execution_count": 65,
   "id": "f64edc1e",
   "metadata": {},
   "outputs": [
    {
     "data": {
      "text/plain": [
       "<AxesSubplot:xlabel='DATE'>"
      ]
     },
     "execution_count": 65,
     "metadata": {},
     "output_type": "execute_result"
    },
    {
     "data": {
      "image/png": "[encoded data removed]",
      "text/plain": [
       "<Figure size 864x576 with 1 Axes>"
      ]
     },
     "metadata": {
      "needs_background": "light"
     },
     "output_type": "display_data"
    }
   ],
   "source": [
    "test.plot(figsize=(12,8))"
   ]
  },
  {
   "cell_type": "code",
   "execution_count": 66,
   "id": "935a39a3",
   "metadata": {},
   "outputs": [],
   "source": [
    "full_scaler = MinMaxScaler()\n",
    "scale_full_data = full_scaler.fit_transform(df)"
   ]
  },
  {
   "cell_type": "code",
   "execution_count": 67,
   "id": "ccf2389b",
   "metadata": {},
   "outputs": [],
   "source": [
    "length = 12\n",
    "generator = TimeseriesGenerator(scale_full_data,scale_full_data,length=length,batch_size=1)"
   ]
  },
  {
   "cell_type": "code",
   "execution_count": 68,
   "id": "1e38ffb8",
   "metadata": {},
   "outputs": [],
   "source": [
    "model = Sequential()\n",
    "model.add(LSTM(100,input_shape=(length,n_features)))\n",
    "model.add(Dense(1))\n",
    "model.compile(optimizer='adam',loss='mse')"
   ]
  },
  {
   "cell_type": "code",
   "execution_count": 69,
   "id": "17a03fbe",
   "metadata": {},
   "outputs": [
    {
     "name": "stdout",
     "output_type": "stream",
     "text": [
      "Epoch 1/4\n",
      "322/322 [==============================] - 3s 5ms/step - loss: 0.0230\n",
      "Epoch 2/4\n",
      "322/322 [==============================] - 2s 5ms/step - loss: 0.0198\n",
      "Epoch 3/4\n",
      "322/322 [==============================] - 2s 6ms/step - loss: 0.0182\n",
      "Epoch 4/4\n",
      "322/322 [==============================] - 2s 5ms/step - loss: 0.0183\n"
     ]
    },
    {
     "data": {
      "text/plain": [
       "<keras.callbacks.History at 0x22979ff5e50>"
      ]
     },
     "execution_count": 69,
     "metadata": {},
     "output_type": "execute_result"
    }
   ],
   "source": [
    "model.fit(generator,epochs=4)"
   ]
  },
  {
   "cell_type": "code",
   "execution_count": 70,
   "id": "53931da6",
   "metadata": {},
   "outputs": [],
   "source": [
    "forecast =[]\n",
    "\n",
    "periods = 12\n",
    "\n",
    "first_eval_batch = scale_full_data[-length:]\n",
    "current_batch = first_eval_batch.reshape((1,length,n_features))\n",
    "\n",
    "for i in range(periods):\n",
    "    current_pred = model.predict(current_batch)[0]\n",
    "    forecast.append(current_pred)\n",
    "    current_batch = np.append(current_batch[:,1:,:],[[current_pred]],axis=1)"
   ]
  },
  {
   "cell_type": "code",
   "execution_count": 71,
   "id": "1abdaf8f",
   "metadata": {},
   "outputs": [],
   "source": [
    "forecast = scaler.inverse_transform(forecast)"
   ]
  },
  {
   "cell_type": "code",
   "execution_count": 72,
   "id": "4e619fcc",
   "metadata": {},
   "outputs": [
    {
     "data": {
      "text/html": [
       "<div>\n",
       "<style scoped>\n",
       "    .dataframe tbody tr th:only-of-type {\n",
       "        vertical-align: middle;\n",
       "    }\n",
       "\n",
       "    .dataframe tbody tr th {\n",
       "        vertical-align: top;\n",
       "    }\n",
       "\n",
       "    .dataframe thead th {\n",
       "        text-align: right;\n",
       "    }\n",
       "</style>\n",
       "<table border=\"1\" class=\"dataframe\">\n",
       "  <thead>\n",
       "    <tr style=\"text-align: right;\">\n",
       "      <th></th>\n",
       "      <th>Sales</th>\n",
       "    </tr>\n",
       "    <tr>\n",
       "      <th>DATE</th>\n",
       "      <th></th>\n",
       "    </tr>\n",
       "  </thead>\n",
       "  <tbody>\n",
       "    <tr>\n",
       "      <th>1992-01-01</th>\n",
       "      <td>6938</td>\n",
       "    </tr>\n",
       "    <tr>\n",
       "      <th>1992-02-01</th>\n",
       "      <td>7524</td>\n",
       "    </tr>\n",
       "    <tr>\n",
       "      <th>1992-03-01</th>\n",
       "      <td>8475</td>\n",
       "    </tr>\n",
       "    <tr>\n",
       "      <th>1992-04-01</th>\n",
       "      <td>9401</td>\n",
       "    </tr>\n",
       "    <tr>\n",
       "      <th>1992-05-01</th>\n",
       "      <td>9558</td>\n",
       "    </tr>\n",
       "    <tr>\n",
       "      <th>...</th>\n",
       "      <td>...</td>\n",
       "    </tr>\n",
       "    <tr>\n",
       "      <th>2019-06-01</th>\n",
       "      <td>21123</td>\n",
       "    </tr>\n",
       "    <tr>\n",
       "      <th>2019-07-01</th>\n",
       "      <td>21714</td>\n",
       "    </tr>\n",
       "    <tr>\n",
       "      <th>2019-08-01</th>\n",
       "      <td>23791</td>\n",
       "    </tr>\n",
       "    <tr>\n",
       "      <th>2019-09-01</th>\n",
       "      <td>19695</td>\n",
       "    </tr>\n",
       "    <tr>\n",
       "      <th>2019-10-01</th>\n",
       "      <td>21113</td>\n",
       "    </tr>\n",
       "  </tbody>\n",
       "</table>\n",
       "<p>334 rows × 1 columns</p>\n",
       "</div>"
      ],
      "text/plain": [
       "            Sales\n",
       "DATE             \n",
       "1992-01-01   6938\n",
       "1992-02-01   7524\n",
       "1992-03-01   8475\n",
       "1992-04-01   9401\n",
       "1992-05-01   9558\n",
       "...           ...\n",
       "2019-06-01  21123\n",
       "2019-07-01  21714\n",
       "2019-08-01  23791\n",
       "2019-09-01  19695\n",
       "2019-10-01  21113\n",
       "\n",
       "[334 rows x 1 columns]"
      ]
     },
     "execution_count": 72,
     "metadata": {},
     "output_type": "execute_result"
    }
   ],
   "source": [
    "df"
   ]
  },
  {
   "cell_type": "code",
   "execution_count": 73,
   "id": "75e7d4de",
   "metadata": {},
   "outputs": [
    {
     "data": {
      "text/plain": [
       "array([[22811.74087   ],\n",
       "       [22431.57387877],\n",
       "       [20799.21435499],\n",
       "       [21441.17321301],\n",
       "       [21887.93780661],\n",
       "       [21861.71905375],\n",
       "       [21890.07864904],\n",
       "       [21724.88244677],\n",
       "       [21806.69414949],\n",
       "       [21824.56296015],\n",
       "       [21583.30939007],\n",
       "       [21837.61487532]])"
      ]
     },
     "execution_count": 73,
     "metadata": {},
     "output_type": "execute_result"
    }
   ],
   "source": [
    "forecast"
   ]
  },
  {
   "cell_type": "code",
   "execution_count": 74,
   "id": "44b08f9e",
   "metadata": {},
   "outputs": [],
   "source": [
    "forecas_index = pd.date_range(start='2019-11-01',periods=periods,\n",
    "                             freq=\"MS\"\n",
    "                             )"
   ]
  },
  {
   "cell_type": "code",
   "execution_count": 75,
   "id": "ba343740",
   "metadata": {},
   "outputs": [
    {
     "data": {
      "text/plain": [
       "DatetimeIndex(['2019-11-01', '2019-12-01', '2020-01-01', '2020-02-01',\n",
       "               '2020-03-01', '2020-04-01', '2020-05-01', '2020-06-01',\n",
       "               '2020-07-01', '2020-08-01', '2020-09-01', '2020-10-01'],\n",
       "              dtype='datetime64[ns]', freq='MS')"
      ]
     },
     "execution_count": 75,
     "metadata": {},
     "output_type": "execute_result"
    }
   ],
   "source": [
    "forecas_index"
   ]
  },
  {
   "cell_type": "code",
   "execution_count": 76,
   "id": "a0ad85cd",
   "metadata": {},
   "outputs": [],
   "source": [
    "forecas_df = pd.DataFrame(data=forecast,index=forecas_index,columns=[\"Forecast\"])"
   ]
  },
  {
   "cell_type": "code",
   "execution_count": 77,
   "id": "6d343d4d",
   "metadata": {},
   "outputs": [
    {
     "data": {
      "text/html": [
       "<div>\n",
       "<style scoped>\n",
       "    .dataframe tbody tr th:only-of-type {\n",
       "        vertical-align: middle;\n",
       "    }\n",
       "\n",
       "    .dataframe tbody tr th {\n",
       "        vertical-align: top;\n",
       "    }\n",
       "\n",
       "    .dataframe thead th {\n",
       "        text-align: right;\n",
       "    }\n",
       "</style>\n",
       "<table border=\"1\" class=\"dataframe\">\n",
       "  <thead>\n",
       "    <tr style=\"text-align: right;\">\n",
       "      <th></th>\n",
       "      <th>Forecast</th>\n",
       "    </tr>\n",
       "  </thead>\n",
       "  <tbody>\n",
       "    <tr>\n",
       "      <th>2019-11-01</th>\n",
       "      <td>22811.740870</td>\n",
       "    </tr>\n",
       "    <tr>\n",
       "      <th>2019-12-01</th>\n",
       "      <td>22431.573879</td>\n",
       "    </tr>\n",
       "    <tr>\n",
       "      <th>2020-01-01</th>\n",
       "      <td>20799.214355</td>\n",
       "    </tr>\n",
       "    <tr>\n",
       "      <th>2020-02-01</th>\n",
       "      <td>21441.173213</td>\n",
       "    </tr>\n",
       "    <tr>\n",
       "      <th>2020-03-01</th>\n",
       "      <td>21887.937807</td>\n",
       "    </tr>\n",
       "    <tr>\n",
       "      <th>2020-04-01</th>\n",
       "      <td>21861.719054</td>\n",
       "    </tr>\n",
       "    <tr>\n",
       "      <th>2020-05-01</th>\n",
       "      <td>21890.078649</td>\n",
       "    </tr>\n",
       "    <tr>\n",
       "      <th>2020-06-01</th>\n",
       "      <td>21724.882447</td>\n",
       "    </tr>\n",
       "    <tr>\n",
       "      <th>2020-07-01</th>\n",
       "      <td>21806.694149</td>\n",
       "    </tr>\n",
       "    <tr>\n",
       "      <th>2020-08-01</th>\n",
       "      <td>21824.562960</td>\n",
       "    </tr>\n",
       "    <tr>\n",
       "      <th>2020-09-01</th>\n",
       "      <td>21583.309390</td>\n",
       "    </tr>\n",
       "    <tr>\n",
       "      <th>2020-10-01</th>\n",
       "      <td>21837.614875</td>\n",
       "    </tr>\n",
       "  </tbody>\n",
       "</table>\n",
       "</div>"
      ],
      "text/plain": [
       "                Forecast\n",
       "2019-11-01  22811.740870\n",
       "2019-12-01  22431.573879\n",
       "2020-01-01  20799.214355\n",
       "2020-02-01  21441.173213\n",
       "2020-03-01  21887.937807\n",
       "2020-04-01  21861.719054\n",
       "2020-05-01  21890.078649\n",
       "2020-06-01  21724.882447\n",
       "2020-07-01  21806.694149\n",
       "2020-08-01  21824.562960\n",
       "2020-09-01  21583.309390\n",
       "2020-10-01  21837.614875"
      ]
     },
     "execution_count": 77,
     "metadata": {},
     "output_type": "execute_result"
    }
   ],
   "source": [
    "forecas_df"
   ]
  },
  {
   "cell_type": "code",
   "execution_count": 78,
   "id": "510a5af9",
   "metadata": {},
   "outputs": [
    {
     "data": {
      "text/plain": [
       "<AxesSubplot:>"
      ]
     },
     "execution_count": 78,
     "metadata": {},
     "output_type": "execute_result"
    },
    {
     "data": {
      "image/png": "[encoded data removed]",
      "text/plain": [
       "<Figure size 432x288 with 1 Axes>"
      ]
     },
     "metadata": {
      "needs_background": "light"
     },
     "output_type": "display_data"
    },
    {
     "data": {
      "image/png": "[encoded data removed]",
      "text/plain": [
       "<Figure size 432x288 with 1 Axes>"
      ]
     },
     "metadata": {
      "needs_background": "light"
     },
     "output_type": "display_data"
    }
   ],
   "source": [
    "df.plot()\n",
    "forecas_df.plot()"
   ]
  },
  {
   "cell_type": "code",
   "execution_count": 81,
   "id": "ca69d576",
   "metadata": {},
   "outputs": [
    {
     "data": {
      "text/plain": [
       "(576.0, 611.0)"
      ]
     },
     "execution_count": 81,
     "metadata": {},
     "output_type": "execute_result"
    },
    {
     "data": {
      "image/png": "[encoded data removed]",
      "text/plain": [
       "<Figure size 432x288 with 1 Axes>"
      ]
     },
     "metadata": {
      "needs_background": "light"
     },
     "output_type": "display_data"
    }
   ],
   "source": [
    "ax = df.plot()\n",
    "forecas_df.plot(ax=ax)\n",
    "plt.xlim('2018-01-01','2020-12-01')"
   ]
  },
  {
   "cell_type": "code",
   "execution_count": null,
   "id": "869996ef",
   "metadata": {},
   "outputs": [],
   "source": []
  }
 ],
 "metadata": {
  "kernelspec": {
   "display_name": "Python 3",
   "language": "python",
   "name": "python3"
  },
  "language_info": {
   "codemirror_mode": {
    "name": "ipython",
    "version": 3
   },
   "file_extension": ".py",
   "mimetype": "text/x-python",
   "name": "python",
   "nbconvert_exporter": "python",
   "pygments_lexer": "ipython3",
   "version": "3.8.8"
  }
 },
 "nbformat": 4,
 "nbformat_minor": 5
}
