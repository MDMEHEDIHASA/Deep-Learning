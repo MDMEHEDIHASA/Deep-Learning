{
 "cells": [
  {
   "cell_type": "code",
   "execution_count": 1,
   "id": "96b643d6",
   "metadata": {},
   "outputs": [],
   "source": [
    "import torch"
   ]
  },
  {
   "cell_type": "code",
   "execution_count": 3,
   "id": "488455ea",
   "metadata": {},
   "outputs": [
    {
     "name": "stdout",
     "output_type": "stream",
     "text": [
      "tensor([[9.2755e-39, 1.0561e-38, 5.9694e-39, 1.0745e-38],\n",
      "        [8.4490e-39, 1.0102e-38, 9.0919e-39, 1.0102e-38]])\n"
     ]
    }
   ],
   "source": [
    "v = torch.empty(2,4)\n",
    "print(v)"
   ]
  },
  {
   "cell_type": "markdown",
   "id": "ad9ce041",
   "metadata": {},
   "source": [
    "1d array-vector\n",
    "2d array-matrix\n",
    "3d array or >3d array-tensor"
   ]
  },
  {
   "cell_type": "code",
   "execution_count": 5,
   "id": "454a885d",
   "metadata": {},
   "outputs": [
    {
     "data": {
      "text/plain": [
       "torch.Size([2, 4])"
      ]
     },
     "execution_count": 5,
     "metadata": {},
     "output_type": "execute_result"
    }
   ],
   "source": [
    "v.shape"
   ]
  },
  {
   "cell_type": "code",
   "execution_count": null,
   "id": "22ad47c3",
   "metadata": {},
   "outputs": [],
   "source": []
  }
 ],
 "metadata": {
  "kernelspec": {
   "display_name": "Python 3",
   "language": "python",
   "name": "python3"
  },
  "language_info": {
   "codemirror_mode": {
    "name": "ipython",
    "version": 3
   },
   "file_extension": ".py",
   "mimetype": "text/x-python",
   "name": "python",
   "nbconvert_exporter": "python",
   "pygments_lexer": "ipython3",
   "version": "3.8.8"
  }
 },
 "nbformat": 4,
 "nbformat_minor": 5
}
