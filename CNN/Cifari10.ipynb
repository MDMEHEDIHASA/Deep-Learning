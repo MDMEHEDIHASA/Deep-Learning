{
 "cells": [
  {
   "cell_type": "code",
   "execution_count": 1,
   "id": "22c85c41",
   "metadata": {},
   "outputs": [],
   "source": [
    "import numpy as np\n",
    "import pandas as pd\n",
    "import matplotlib.pyplot as plt\n",
    "import seaborn as sns\n",
    "%matplotlib inline"
   ]
  },
  {
   "cell_type": "code",
   "execution_count": 2,
   "id": "58e83d34",
   "metadata": {},
   "outputs": [],
   "source": [
    "from tensorflow.keras.datasets import cifar10"
   ]
  },
  {
   "cell_type": "code",
   "execution_count": 3,
   "id": "946d335b",
   "metadata": {},
   "outputs": [],
   "source": [
    "(X_train,y_train),(X_test,y_test) = cifar10.load_data()"
   ]
  },
  {
   "cell_type": "code",
   "execution_count": 4,
   "id": "0722c407",
   "metadata": {},
   "outputs": [
    {
     "data": {
      "text/plain": [
       "(50000, 32, 32, 3)"
      ]
     },
     "execution_count": 4,
     "metadata": {},
     "output_type": "execute_result"
    }
   ],
   "source": [
    "X_train.shape"
   ]
  },
  {
   "cell_type": "code",
   "execution_count": 5,
   "id": "70ca0acb",
   "metadata": {},
   "outputs": [],
   "source": [
    "scale_image = X_train[0]"
   ]
  },
  {
   "cell_type": "code",
   "execution_count": 6,
   "id": "fcf6f807",
   "metadata": {},
   "outputs": [
    {
     "data": {
      "text/plain": [
       "<matplotlib.image.AxesImage at 0x1cb6054f0d0>"
      ]
     },
     "execution_count": 6,
     "metadata": {},
     "output_type": "execute_result"
    },
    {
     "data": {
      "image/png": "[encoded data removed]",
      "text/plain": [
       "<Figure size 432x288 with 1 Axes>"
      ]
     },
     "metadata": {
      "needs_background": "light"
     },
     "output_type": "display_data"
    }
   ],
   "source": [
    "plt.imshow(X_train[5])"
   ]
  },
  {
   "cell_type": "code",
   "execution_count": 7,
   "id": "6fe1d772",
   "metadata": {},
   "outputs": [],
   "source": [
    "from tensorflow.keras.utils import to_categorical"
   ]
  },
  {
   "cell_type": "code",
   "execution_count": 8,
   "id": "bbedf762",
   "metadata": {},
   "outputs": [
    {
     "data": {
      "text/plain": [
       "array([[3],\n",
       "       [8],\n",
       "       [8],\n",
       "       ...,\n",
       "       [5],\n",
       "       [1],\n",
       "       [7]], dtype=uint8)"
      ]
     },
     "execution_count": 8,
     "metadata": {},
     "output_type": "execute_result"
    }
   ],
   "source": [
    "y_test"
   ]
  },
  {
   "cell_type": "code",
   "execution_count": 9,
   "id": "d7275c2e",
   "metadata": {},
   "outputs": [],
   "source": [
    "y_cat_train = to_categorical(y_train,num_classes=10)"
   ]
  },
  {
   "cell_type": "code",
   "execution_count": 10,
   "id": "c56b27a9",
   "metadata": {},
   "outputs": [],
   "source": [
    "y_cat_test = to_categorical(y_test,num_classes=10)"
   ]
  },
  {
   "cell_type": "code",
   "execution_count": 11,
   "id": "0343eb6b",
   "metadata": {},
   "outputs": [],
   "source": [
    "X_train = X_train/255"
   ]
  },
  {
   "cell_type": "code",
   "execution_count": 12,
   "id": "c73ef3ab",
   "metadata": {},
   "outputs": [],
   "source": [
    "X_test = X_test/255"
   ]
  },
  {
   "cell_type": "code",
   "execution_count": 13,
   "id": "9bf84949",
   "metadata": {},
   "outputs": [
    {
     "data": {
      "text/plain": [
       "array([[[[0.23137255, 0.24313725, 0.24705882],\n",
       "         [0.16862745, 0.18039216, 0.17647059],\n",
       "         [0.19607843, 0.18823529, 0.16862745],\n",
       "         ...,\n",
       "         [0.61960784, 0.51764706, 0.42352941],\n",
       "         [0.59607843, 0.49019608, 0.4       ],\n",
       "         [0.58039216, 0.48627451, 0.40392157]],\n",
       "\n",
       "        [[0.0627451 , 0.07843137, 0.07843137],\n",
       "         [0.        , 0.        , 0.        ],\n",
       "         [0.07058824, 0.03137255, 0.        ],\n",
       "         ...,\n",
       "         [0.48235294, 0.34509804, 0.21568627],\n",
       "         [0.46666667, 0.3254902 , 0.19607843],\n",
       "         [0.47843137, 0.34117647, 0.22352941]],\n",
       "\n",
       "        [[0.09803922, 0.09411765, 0.08235294],\n",
       "         [0.0627451 , 0.02745098, 0.        ],\n",
       "         [0.19215686, 0.10588235, 0.03137255],\n",
       "         ...,\n",
       "         [0.4627451 , 0.32941176, 0.19607843],\n",
       "         [0.47058824, 0.32941176, 0.19607843],\n",
       "         [0.42745098, 0.28627451, 0.16470588]],\n",
       "\n",
       "        ...,\n",
       "\n",
       "        [[0.81568627, 0.66666667, 0.37647059],\n",
       "         [0.78823529, 0.6       , 0.13333333],\n",
       "         [0.77647059, 0.63137255, 0.10196078],\n",
       "         ...,\n",
       "         [0.62745098, 0.52156863, 0.2745098 ],\n",
       "         [0.21960784, 0.12156863, 0.02745098],\n",
       "         [0.20784314, 0.13333333, 0.07843137]],\n",
       "\n",
       "        [[0.70588235, 0.54509804, 0.37647059],\n",
       "         [0.67843137, 0.48235294, 0.16470588],\n",
       "         [0.72941176, 0.56470588, 0.11764706],\n",
       "         ...,\n",
       "         [0.72156863, 0.58039216, 0.36862745],\n",
       "         [0.38039216, 0.24313725, 0.13333333],\n",
       "         [0.3254902 , 0.20784314, 0.13333333]],\n",
       "\n",
       "        [[0.69411765, 0.56470588, 0.45490196],\n",
       "         [0.65882353, 0.50588235, 0.36862745],\n",
       "         [0.70196078, 0.55686275, 0.34117647],\n",
       "         ...,\n",
       "         [0.84705882, 0.72156863, 0.54901961],\n",
       "         [0.59215686, 0.4627451 , 0.32941176],\n",
       "         [0.48235294, 0.36078431, 0.28235294]]],\n",
       "\n",
       "\n",
       "       [[[0.60392157, 0.69411765, 0.73333333],\n",
       "         [0.49411765, 0.5372549 , 0.53333333],\n",
       "         [0.41176471, 0.40784314, 0.37254902],\n",
       "         ...,\n",
       "         [0.35686275, 0.37254902, 0.27843137],\n",
       "         [0.34117647, 0.35294118, 0.27843137],\n",
       "         [0.30980392, 0.31764706, 0.2745098 ]],\n",
       "\n",
       "        [[0.54901961, 0.62745098, 0.6627451 ],\n",
       "         [0.56862745, 0.6       , 0.60392157],\n",
       "         [0.49019608, 0.49019608, 0.4627451 ],\n",
       "         ...,\n",
       "         [0.37647059, 0.38823529, 0.30588235],\n",
       "         [0.30196078, 0.31372549, 0.24313725],\n",
       "         [0.27843137, 0.28627451, 0.23921569]],\n",
       "\n",
       "        [[0.54901961, 0.60784314, 0.64313725],\n",
       "         [0.54509804, 0.57254902, 0.58431373],\n",
       "         [0.45098039, 0.45098039, 0.43921569],\n",
       "         ...,\n",
       "         [0.30980392, 0.32156863, 0.25098039],\n",
       "         [0.26666667, 0.2745098 , 0.21568627],\n",
       "         [0.2627451 , 0.27058824, 0.21568627]],\n",
       "\n",
       "        ...,\n",
       "\n",
       "        [[0.68627451, 0.65490196, 0.65098039],\n",
       "         [0.61176471, 0.60392157, 0.62745098],\n",
       "         [0.60392157, 0.62745098, 0.66666667],\n",
       "         ...,\n",
       "         [0.16470588, 0.13333333, 0.14117647],\n",
       "         [0.23921569, 0.20784314, 0.22352941],\n",
       "         [0.36470588, 0.3254902 , 0.35686275]],\n",
       "\n",
       "        [[0.64705882, 0.60392157, 0.50196078],\n",
       "         [0.61176471, 0.59607843, 0.50980392],\n",
       "         [0.62352941, 0.63137255, 0.55686275],\n",
       "         ...,\n",
       "         [0.40392157, 0.36470588, 0.37647059],\n",
       "         [0.48235294, 0.44705882, 0.47058824],\n",
       "         [0.51372549, 0.4745098 , 0.51372549]],\n",
       "\n",
       "        [[0.63921569, 0.58039216, 0.47058824],\n",
       "         [0.61960784, 0.58039216, 0.47843137],\n",
       "         [0.63921569, 0.61176471, 0.52156863],\n",
       "         ...,\n",
       "         [0.56078431, 0.52156863, 0.54509804],\n",
       "         [0.56078431, 0.5254902 , 0.55686275],\n",
       "         [0.56078431, 0.52156863, 0.56470588]]],\n",
       "\n",
       "\n",
       "       [[[1.        , 1.        , 1.        ],\n",
       "         [0.99215686, 0.99215686, 0.99215686],\n",
       "         [0.99215686, 0.99215686, 0.99215686],\n",
       "         ...,\n",
       "         [0.99215686, 0.99215686, 0.99215686],\n",
       "         [0.99215686, 0.99215686, 0.99215686],\n",
       "         [0.99215686, 0.99215686, 0.99215686]],\n",
       "\n",
       "        [[1.        , 1.        , 1.        ],\n",
       "         [1.        , 1.        , 1.        ],\n",
       "         [1.        , 1.        , 1.        ],\n",
       "         ...,\n",
       "         [1.        , 1.        , 1.        ],\n",
       "         [1.        , 1.        , 1.        ],\n",
       "         [1.        , 1.        , 1.        ]],\n",
       "\n",
       "        [[1.        , 1.        , 1.        ],\n",
       "         [0.99607843, 0.99607843, 0.99607843],\n",
       "         [0.99607843, 0.99607843, 0.99607843],\n",
       "         ...,\n",
       "         [0.99607843, 0.99607843, 0.99607843],\n",
       "         [0.99607843, 0.99607843, 0.99607843],\n",
       "         [0.99607843, 0.99607843, 0.99607843]],\n",
       "\n",
       "        ...,\n",
       "\n",
       "        [[0.44313725, 0.47058824, 0.43921569],\n",
       "         [0.43529412, 0.4627451 , 0.43529412],\n",
       "         [0.41176471, 0.43921569, 0.41568627],\n",
       "         ...,\n",
       "         [0.28235294, 0.31764706, 0.31372549],\n",
       "         [0.28235294, 0.31372549, 0.30980392],\n",
       "         [0.28235294, 0.31372549, 0.30980392]],\n",
       "\n",
       "        [[0.43529412, 0.4627451 , 0.43137255],\n",
       "         [0.40784314, 0.43529412, 0.40784314],\n",
       "         [0.38823529, 0.41568627, 0.38431373],\n",
       "         ...,\n",
       "         [0.26666667, 0.29411765, 0.28627451],\n",
       "         [0.2745098 , 0.29803922, 0.29411765],\n",
       "         [0.30588235, 0.32941176, 0.32156863]],\n",
       "\n",
       "        [[0.41568627, 0.44313725, 0.41176471],\n",
       "         [0.38823529, 0.41568627, 0.38431373],\n",
       "         [0.37254902, 0.4       , 0.36862745],\n",
       "         ...,\n",
       "         [0.30588235, 0.33333333, 0.3254902 ],\n",
       "         [0.30980392, 0.33333333, 0.3254902 ],\n",
       "         [0.31372549, 0.3372549 , 0.32941176]]],\n",
       "\n",
       "\n",
       "       ...,\n",
       "\n",
       "\n",
       "       [[[0.1372549 , 0.69803922, 0.92156863],\n",
       "         [0.15686275, 0.69019608, 0.9372549 ],\n",
       "         [0.16470588, 0.69019608, 0.94509804],\n",
       "         ...,\n",
       "         [0.38823529, 0.69411765, 0.85882353],\n",
       "         [0.30980392, 0.57647059, 0.77254902],\n",
       "         [0.34901961, 0.58039216, 0.74117647]],\n",
       "\n",
       "        [[0.22352941, 0.71372549, 0.91764706],\n",
       "         [0.17254902, 0.72156863, 0.98039216],\n",
       "         [0.19607843, 0.71764706, 0.94117647],\n",
       "         ...,\n",
       "         [0.61176471, 0.71372549, 0.78431373],\n",
       "         [0.55294118, 0.69411765, 0.80784314],\n",
       "         [0.45490196, 0.58431373, 0.68627451]],\n",
       "\n",
       "        [[0.38431373, 0.77254902, 0.92941176],\n",
       "         [0.25098039, 0.74117647, 0.98823529],\n",
       "         [0.27058824, 0.75294118, 0.96078431],\n",
       "         ...,\n",
       "         [0.7372549 , 0.76470588, 0.80784314],\n",
       "         [0.46666667, 0.52941176, 0.57647059],\n",
       "         [0.23921569, 0.30980392, 0.35294118]],\n",
       "\n",
       "        ...,\n",
       "\n",
       "        [[0.28627451, 0.30980392, 0.30196078],\n",
       "         [0.20784314, 0.24705882, 0.26666667],\n",
       "         [0.21176471, 0.26666667, 0.31372549],\n",
       "         ...,\n",
       "         [0.06666667, 0.15686275, 0.25098039],\n",
       "         [0.08235294, 0.14117647, 0.2       ],\n",
       "         [0.12941176, 0.18823529, 0.19215686]],\n",
       "\n",
       "        [[0.23921569, 0.26666667, 0.29411765],\n",
       "         [0.21568627, 0.2745098 , 0.3372549 ],\n",
       "         [0.22352941, 0.30980392, 0.40392157],\n",
       "         ...,\n",
       "         [0.09411765, 0.18823529, 0.28235294],\n",
       "         [0.06666667, 0.1372549 , 0.20784314],\n",
       "         [0.02745098, 0.09019608, 0.1254902 ]],\n",
       "\n",
       "        [[0.17254902, 0.21960784, 0.28627451],\n",
       "         [0.18039216, 0.25882353, 0.34509804],\n",
       "         [0.19215686, 0.30196078, 0.41176471],\n",
       "         ...,\n",
       "         [0.10588235, 0.20392157, 0.30196078],\n",
       "         [0.08235294, 0.16862745, 0.25882353],\n",
       "         [0.04705882, 0.12156863, 0.19607843]]],\n",
       "\n",
       "\n",
       "       [[[0.74117647, 0.82745098, 0.94117647],\n",
       "         [0.72941176, 0.81568627, 0.9254902 ],\n",
       "         [0.7254902 , 0.81176471, 0.92156863],\n",
       "         ...,\n",
       "         [0.68627451, 0.76470588, 0.87843137],\n",
       "         [0.6745098 , 0.76078431, 0.87058824],\n",
       "         [0.6627451 , 0.76078431, 0.8627451 ]],\n",
       "\n",
       "        [[0.76078431, 0.82352941, 0.9372549 ],\n",
       "         [0.74901961, 0.81176471, 0.9254902 ],\n",
       "         [0.74509804, 0.80784314, 0.92156863],\n",
       "         ...,\n",
       "         [0.67843137, 0.75294118, 0.8627451 ],\n",
       "         [0.67058824, 0.74901961, 0.85490196],\n",
       "         [0.65490196, 0.74509804, 0.84705882]],\n",
       "\n",
       "        [[0.81568627, 0.85882353, 0.95686275],\n",
       "         [0.80392157, 0.84705882, 0.94117647],\n",
       "         [0.8       , 0.84313725, 0.9372549 ],\n",
       "         ...,\n",
       "         [0.68627451, 0.74901961, 0.85098039],\n",
       "         [0.6745098 , 0.74509804, 0.84705882],\n",
       "         [0.6627451 , 0.74901961, 0.84313725]],\n",
       "\n",
       "        ...,\n",
       "\n",
       "        [[0.81176471, 0.78039216, 0.70980392],\n",
       "         [0.79607843, 0.76470588, 0.68627451],\n",
       "         [0.79607843, 0.76862745, 0.67843137],\n",
       "         ...,\n",
       "         [0.52941176, 0.51764706, 0.49803922],\n",
       "         [0.63529412, 0.61960784, 0.58823529],\n",
       "         [0.65882353, 0.63921569, 0.59215686]],\n",
       "\n",
       "        [[0.77647059, 0.74509804, 0.66666667],\n",
       "         [0.74117647, 0.70980392, 0.62352941],\n",
       "         [0.70588235, 0.6745098 , 0.57647059],\n",
       "         ...,\n",
       "         [0.69803922, 0.67058824, 0.62745098],\n",
       "         [0.68627451, 0.6627451 , 0.61176471],\n",
       "         [0.68627451, 0.6627451 , 0.60392157]],\n",
       "\n",
       "        [[0.77647059, 0.74117647, 0.67843137],\n",
       "         [0.74117647, 0.70980392, 0.63529412],\n",
       "         [0.69803922, 0.66666667, 0.58431373],\n",
       "         ...,\n",
       "         [0.76470588, 0.72156863, 0.6627451 ],\n",
       "         [0.76862745, 0.74117647, 0.67058824],\n",
       "         [0.76470588, 0.74509804, 0.67058824]]],\n",
       "\n",
       "\n",
       "       [[[0.89803922, 0.89803922, 0.9372549 ],\n",
       "         [0.9254902 , 0.92941176, 0.96862745],\n",
       "         [0.91764706, 0.9254902 , 0.96862745],\n",
       "         ...,\n",
       "         [0.85098039, 0.85882353, 0.91372549],\n",
       "         [0.86666667, 0.8745098 , 0.91764706],\n",
       "         [0.87058824, 0.8745098 , 0.91372549]],\n",
       "\n",
       "        [[0.87058824, 0.86666667, 0.89803922],\n",
       "         [0.9372549 , 0.9372549 , 0.97647059],\n",
       "         [0.91372549, 0.91764706, 0.96470588],\n",
       "         ...,\n",
       "         [0.8745098 , 0.8745098 , 0.9254902 ],\n",
       "         [0.89019608, 0.89411765, 0.93333333],\n",
       "         [0.82352941, 0.82745098, 0.8627451 ]],\n",
       "\n",
       "        [[0.83529412, 0.80784314, 0.82745098],\n",
       "         [0.91764706, 0.90980392, 0.9372549 ],\n",
       "         [0.90588235, 0.91372549, 0.95686275],\n",
       "         ...,\n",
       "         [0.8627451 , 0.8627451 , 0.90980392],\n",
       "         [0.8627451 , 0.85882353, 0.90980392],\n",
       "         [0.79215686, 0.79607843, 0.84313725]],\n",
       "\n",
       "        ...,\n",
       "\n",
       "        [[0.58823529, 0.56078431, 0.52941176],\n",
       "         [0.54901961, 0.52941176, 0.49803922],\n",
       "         [0.51764706, 0.49803922, 0.47058824],\n",
       "         ...,\n",
       "         [0.87843137, 0.87058824, 0.85490196],\n",
       "         [0.90196078, 0.89411765, 0.88235294],\n",
       "         [0.94509804, 0.94509804, 0.93333333]],\n",
       "\n",
       "        [[0.5372549 , 0.51764706, 0.49411765],\n",
       "         [0.50980392, 0.49803922, 0.47058824],\n",
       "         [0.49019608, 0.4745098 , 0.45098039],\n",
       "         ...,\n",
       "         [0.70980392, 0.70588235, 0.69803922],\n",
       "         [0.79215686, 0.78823529, 0.77647059],\n",
       "         [0.83137255, 0.82745098, 0.81176471]],\n",
       "\n",
       "        [[0.47843137, 0.46666667, 0.44705882],\n",
       "         [0.4627451 , 0.45490196, 0.43137255],\n",
       "         [0.47058824, 0.45490196, 0.43529412],\n",
       "         ...,\n",
       "         [0.70196078, 0.69411765, 0.67843137],\n",
       "         [0.64313725, 0.64313725, 0.63529412],\n",
       "         [0.63921569, 0.63921569, 0.63137255]]]])"
      ]
     },
     "execution_count": 13,
     "metadata": {},
     "output_type": "execute_result"
    }
   ],
   "source": [
    "X_train"
   ]
  },
  {
   "cell_type": "code",
   "execution_count": 14,
   "id": "27eddde4",
   "metadata": {},
   "outputs": [
    {
     "data": {
      "text/plain": [
       "<matplotlib.image.AxesImage at 0x1cb5e7d13d0>"
      ]
     },
     "execution_count": 14,
     "metadata": {},
     "output_type": "execute_result"
    },
    {
     "data": {
      "image/png": "[encoded data removed]",
      "text/plain": [
       "<Figure size 432x288 with 1 Axes>"
      ]
     },
     "metadata": {
      "needs_background": "light"
     },
     "output_type": "display_data"
    }
   ],
   "source": [
    "plt.imshow(X_train[0])"
   ]
  },
  {
   "cell_type": "code",
   "execution_count": 15,
   "id": "cdbac133",
   "metadata": {},
   "outputs": [],
   "source": [
    "from tensorflow.keras.models import Sequential"
   ]
  },
  {
   "cell_type": "code",
   "execution_count": 16,
   "id": "6cf667d3",
   "metadata": {},
   "outputs": [],
   "source": [
    "from tensorflow.keras.layers import Dense,Conv2D,MaxPool2D,Flatten"
   ]
  },
  {
   "cell_type": "code",
   "execution_count": 17,
   "id": "002e30eb",
   "metadata": {},
   "outputs": [
    {
     "data": {
      "text/plain": [
       "784"
      ]
     },
     "execution_count": 17,
     "metadata": {},
     "output_type": "execute_result"
    }
   ],
   "source": [
    "28*28*1"
   ]
  },
  {
   "cell_type": "code",
   "execution_count": 18,
   "id": "30fb91bc",
   "metadata": {},
   "outputs": [
    {
     "data": {
      "text/plain": [
       "3072"
      ]
     },
     "execution_count": 18,
     "metadata": {},
     "output_type": "execute_result"
    }
   ],
   "source": [
    "32*32*3"
   ]
  },
  {
   "cell_type": "code",
   "execution_count": 19,
   "id": "3c4c95b2",
   "metadata": {},
   "outputs": [],
   "source": [
    "model = Sequential()\n",
    "\n",
    "# CONVOLUTIONAL LAYER\n",
    "model.add(Conv2D(filters=32, kernel_size=(4,4),input_shape=(32, 32, 3), activation='relu',))\n",
    "# POOLING LAYER\n",
    "model.add(MaxPool2D(pool_size=(2, 2)))\n",
    "\n",
    "# CONVOLUTIONAL LAYER\n",
    "model.add(Conv2D(filters=32, kernel_size=(4,4),input_shape=(32, 32, 3), activation='relu',))\n",
    "# POOLING LAYER\n",
    "model.add(MaxPool2D(pool_size=(2, 2)))\n",
    "\n",
    "# FLATTEN IMAGES FROM 32 by 32 to 10244 BEFORE FINAL LAYER\n",
    "model.add(Flatten())\n",
    "\n",
    "# 128 NEURONS IN DENSE HIDDEN LAYER (YOU CAN CHANGE THIS NUMBER OF NEURONS)\n",
    "model.add(Dense(256, activation='relu'))\n",
    "\n",
    "# LAST LAYER IS THE CLASSIFIER, THUS 10 POSSIBLE CLASSES\n",
    "model.add(Dense(10, activation='softmax'))\n",
    "\n",
    "# https://keras.io/metrics/\n",
    "model.compile(loss='categorical_crossentropy',\n",
    "              optimizer='adam',\n",
    "              metrics=['accuracy']) # we can add in additional metrics https://keras.io/metrics/"
   ]
  },
  {
   "cell_type": "code",
   "execution_count": 20,
   "id": "cb789ba1",
   "metadata": {},
   "outputs": [
    {
     "name": "stdout",
     "output_type": "stream",
     "text": [
      "Model: \"sequential\"\n",
      "_________________________________________________________________\n",
      " Layer (type)                Output Shape              Param #   \n",
      "=================================================================\n",
      " conv2d (Conv2D)             (None, 29, 29, 32)        1568      \n",
      "                                                                 \n",
      " max_pooling2d (MaxPooling2D  (None, 14, 14, 32)       0         \n",
      " )                                                               \n",
      "                                                                 \n",
      " conv2d_1 (Conv2D)           (None, 11, 11, 32)        16416     \n",
      "                                                                 \n",
      " max_pooling2d_1 (MaxPooling  (None, 5, 5, 32)         0         \n",
      " 2D)                                                             \n",
      "                                                                 \n",
      " flatten (Flatten)           (None, 800)               0         \n",
      "                                                                 \n",
      " dense (Dense)               (None, 256)               205056    \n",
      "                                                                 \n",
      " dense_1 (Dense)             (None, 10)                2570      \n",
      "                                                                 \n",
      "=================================================================\n",
      "Total params: 225,610\n",
      "Trainable params: 225,610\n",
      "Non-trainable params: 0\n",
      "_________________________________________________________________\n"
     ]
    }
   ],
   "source": [
    "model.summary()"
   ]
  },
  {
   "cell_type": "code",
   "execution_count": 21,
   "id": "889a8e05",
   "metadata": {},
   "outputs": [],
   "source": [
    "from tensorflow.keras.callbacks import EarlyStopping"
   ]
  },
  {
   "cell_type": "code",
   "execution_count": 22,
   "id": "300fe9a9",
   "metadata": {},
   "outputs": [],
   "source": [
    "early_stop = EarlyStopping(monitor='val_loss',patience=2)"
   ]
  },
  {
   "cell_type": "code",
   "execution_count": 23,
   "id": "6a98da26",
   "metadata": {},
   "outputs": [
    {
     "name": "stdout",
     "output_type": "stream",
     "text": [
      "Epoch 1/15\n",
      "1563/1563 [==============================] - 42s 26ms/step - loss: 1.4947 - accuracy: 0.4581 - val_loss: 1.2966 - val_accuracy: 0.5271\n",
      "Epoch 2/15\n",
      "1563/1563 [==============================] - 43s 28ms/step - loss: 1.1589 - accuracy: 0.5895 - val_loss: 1.0760 - val_accuracy: 0.6273\n",
      "Epoch 3/15\n",
      "1563/1563 [==============================] - 46s 29ms/step - loss: 1.0050 - accuracy: 0.6467 - val_loss: 1.0346 - val_accuracy: 0.6370\n",
      "Epoch 4/15\n",
      "1563/1563 [==============================] - 42s 27ms/step - loss: 0.8955 - accuracy: 0.6872 - val_loss: 1.0519 - val_accuracy: 0.6356\n",
      "Epoch 5/15\n",
      "1563/1563 [==============================] - 43s 27ms/step - loss: 0.8049 - accuracy: 0.7173 - val_loss: 0.9880 - val_accuracy: 0.6658\n",
      "Epoch 6/15\n",
      "1563/1563 [==============================] - 42s 27ms/step - loss: 0.7305 - accuracy: 0.7458 - val_loss: 0.9665 - val_accuracy: 0.6683\n",
      "Epoch 7/15\n",
      "1563/1563 [==============================] - 44s 28ms/step - loss: 0.6649 - accuracy: 0.7658 - val_loss: 0.9741 - val_accuracy: 0.6778\n",
      "Epoch 8/15\n",
      "1563/1563 [==============================] - 53s 34ms/step - loss: 0.6008 - accuracy: 0.7897 - val_loss: 0.9942 - val_accuracy: 0.6819\n"
     ]
    },
    {
     "data": {
      "text/plain": [
       "<keras.callbacks.History at 0x1cb5ea5bca0>"
      ]
     },
     "execution_count": 23,
     "metadata": {},
     "output_type": "execute_result"
    }
   ],
   "source": [
    "model.fit(X_train,y_cat_train,epochs=15,validation_data=(X_test,y_cat_test),callbacks=[early_stop])"
   ]
  },
  {
   "cell_type": "code",
   "execution_count": 24,
   "id": "aa2297c8",
   "metadata": {},
   "outputs": [],
   "source": [
    "metrics = pd.DataFrame(model.history.history)"
   ]
  },
  {
   "cell_type": "code",
   "execution_count": 25,
   "id": "fe9728f8",
   "metadata": {},
   "outputs": [
    {
     "data": {
      "text/html": [
       "<div>\n",
       "<style scoped>\n",
       "    .dataframe tbody tr th:only-of-type {\n",
       "        vertical-align: middle;\n",
       "    }\n",
       "\n",
       "    .dataframe tbody tr th {\n",
       "        vertical-align: top;\n",
       "    }\n",
       "\n",
       "    .dataframe thead th {\n",
       "        text-align: right;\n",
       "    }\n",
       "</style>\n",
       "<table border=\"1\" class=\"dataframe\">\n",
       "  <thead>\n",
       "    <tr style=\"text-align: right;\">\n",
       "      <th></th>\n",
       "      <th>loss</th>\n",
       "      <th>accuracy</th>\n",
       "      <th>val_loss</th>\n",
       "      <th>val_accuracy</th>\n",
       "    </tr>\n",
       "  </thead>\n",
       "  <tbody>\n",
       "    <tr>\n",
       "      <th>0</th>\n",
       "      <td>1.494717</td>\n",
       "      <td>0.45810</td>\n",
       "      <td>1.296579</td>\n",
       "      <td>0.5271</td>\n",
       "    </tr>\n",
       "    <tr>\n",
       "      <th>1</th>\n",
       "      <td>1.158904</td>\n",
       "      <td>0.58946</td>\n",
       "      <td>1.075970</td>\n",
       "      <td>0.6273</td>\n",
       "    </tr>\n",
       "    <tr>\n",
       "      <th>2</th>\n",
       "      <td>1.004995</td>\n",
       "      <td>0.64674</td>\n",
       "      <td>1.034617</td>\n",
       "      <td>0.6370</td>\n",
       "    </tr>\n",
       "    <tr>\n",
       "      <th>3</th>\n",
       "      <td>0.895541</td>\n",
       "      <td>0.68718</td>\n",
       "      <td>1.051914</td>\n",
       "      <td>0.6356</td>\n",
       "    </tr>\n",
       "    <tr>\n",
       "      <th>4</th>\n",
       "      <td>0.804867</td>\n",
       "      <td>0.71734</td>\n",
       "      <td>0.987999</td>\n",
       "      <td>0.6658</td>\n",
       "    </tr>\n",
       "    <tr>\n",
       "      <th>5</th>\n",
       "      <td>0.730489</td>\n",
       "      <td>0.74578</td>\n",
       "      <td>0.966533</td>\n",
       "      <td>0.6683</td>\n",
       "    </tr>\n",
       "    <tr>\n",
       "      <th>6</th>\n",
       "      <td>0.664881</td>\n",
       "      <td>0.76578</td>\n",
       "      <td>0.974094</td>\n",
       "      <td>0.6778</td>\n",
       "    </tr>\n",
       "    <tr>\n",
       "      <th>7</th>\n",
       "      <td>0.600811</td>\n",
       "      <td>0.78968</td>\n",
       "      <td>0.994179</td>\n",
       "      <td>0.6819</td>\n",
       "    </tr>\n",
       "  </tbody>\n",
       "</table>\n",
       "</div>"
      ],
      "text/plain": [
       "       loss  accuracy  val_loss  val_accuracy\n",
       "0  1.494717   0.45810  1.296579        0.5271\n",
       "1  1.158904   0.58946  1.075970        0.6273\n",
       "2  1.004995   0.64674  1.034617        0.6370\n",
       "3  0.895541   0.68718  1.051914        0.6356\n",
       "4  0.804867   0.71734  0.987999        0.6658\n",
       "5  0.730489   0.74578  0.966533        0.6683\n",
       "6  0.664881   0.76578  0.974094        0.6778\n",
       "7  0.600811   0.78968  0.994179        0.6819"
      ]
     },
     "execution_count": 25,
     "metadata": {},
     "output_type": "execute_result"
    }
   ],
   "source": [
    "metrics"
   ]
  },
  {
   "cell_type": "code",
   "execution_count": 26,
   "id": "6fdb296c",
   "metadata": {},
   "outputs": [
    {
     "data": {
      "text/plain": [
       "<AxesSubplot:>"
      ]
     },
     "execution_count": 26,
     "metadata": {},
     "output_type": "execute_result"
    },
    {
     "data": {
      "image/png": "[encoded data removed]",
      "text/plain": [
       "<Figure size 432x288 with 1 Axes>"
      ]
     },
     "metadata": {
      "needs_background": "light"
     },
     "output_type": "display_data"
    }
   ],
   "source": [
    "metrics[['loss','val_loss']].plot()"
   ]
  },
  {
   "cell_type": "code",
   "execution_count": 27,
   "id": "92649118",
   "metadata": {},
   "outputs": [
    {
     "data": {
      "text/plain": [
       "<AxesSubplot:>"
      ]
     },
     "execution_count": 27,
     "metadata": {},
     "output_type": "execute_result"
    },
    {
     "data": {
      "image/png": "[encoded data removed]",
      "text/plain": [
       "<Figure size 432x288 with 1 Axes>"
      ]
     },
     "metadata": {
      "needs_background": "light"
     },
     "output_type": "display_data"
    }
   ],
   "source": [
    "metrics[['accuracy','val_accuracy']].plot()"
   ]
  },
  {
   "cell_type": "code",
   "execution_count": 28,
   "id": "ea4c3f79",
   "metadata": {},
   "outputs": [
    {
     "data": {
      "text/plain": [
       "[0.994179368019104, 0.6819000244140625]"
      ]
     },
     "execution_count": 28,
     "metadata": {},
     "output_type": "execute_result"
    }
   ],
   "source": [
    "model.evaluate(X_test,y_cat_test,verbose=0)"
   ]
  },
  {
   "cell_type": "code",
   "execution_count": 29,
   "id": "43c99d2d",
   "metadata": {},
   "outputs": [],
   "source": [
    "from sklearn.metrics import classification_report,confusion_matrix"
   ]
  },
  {
   "cell_type": "code",
   "execution_count": 30,
   "id": "50392550",
   "metadata": {},
   "outputs": [],
   "source": [
    "predict = np.argmax(model.predict(X_test), axis=-1)"
   ]
  },
  {
   "cell_type": "code",
   "execution_count": 31,
   "id": "71c7af80",
   "metadata": {},
   "outputs": [
    {
     "data": {
      "text/plain": [
       "(10000, 10)"
      ]
     },
     "execution_count": 31,
     "metadata": {},
     "output_type": "execute_result"
    }
   ],
   "source": [
    "y_cat_test.shape"
   ]
  },
  {
   "cell_type": "code",
   "execution_count": 32,
   "id": "daa7aaa2",
   "metadata": {},
   "outputs": [
    {
     "data": {
      "text/plain": [
       "array([[3],\n",
       "       [8],\n",
       "       [8],\n",
       "       ...,\n",
       "       [5],\n",
       "       [1],\n",
       "       [7]], dtype=uint8)"
      ]
     },
     "execution_count": 32,
     "metadata": {},
     "output_type": "execute_result"
    }
   ],
   "source": [
    "y_test"
   ]
  },
  {
   "cell_type": "code",
   "execution_count": 33,
   "id": "aefb82c8",
   "metadata": {},
   "outputs": [
    {
     "name": "stdout",
     "output_type": "stream",
     "text": [
      "              precision    recall  f1-score   support\n",
      "\n",
      "           0       0.67      0.78      0.72      1000\n",
      "           1       0.75      0.81      0.78      1000\n",
      "           2       0.68      0.46      0.55      1000\n",
      "           3       0.49      0.55      0.51      1000\n",
      "           4       0.60      0.68      0.64      1000\n",
      "           5       0.64      0.52      0.57      1000\n",
      "           6       0.76      0.77      0.76      1000\n",
      "           7       0.70      0.78      0.74      1000\n",
      "           8       0.75      0.79      0.77      1000\n",
      "           9       0.82      0.69      0.75      1000\n",
      "\n",
      "    accuracy                           0.68     10000\n",
      "   macro avg       0.69      0.68      0.68     10000\n",
      "weighted avg       0.69      0.68      0.68     10000\n",
      "\n"
     ]
    }
   ],
   "source": [
    "print(classification_report(y_test,predict))"
   ]
  },
  {
   "cell_type": "code",
   "execution_count": 34,
   "id": "09bf0bec",
   "metadata": {},
   "outputs": [
    {
     "data": {
      "text/plain": [
       "array([[782,  25,  22,  28,  26,   3,  13,  18,  70,  13],\n",
       "       [ 32, 811,   1,   8,   8,   5,  15,   9,  43,  68],\n",
       "       [ 92,  13, 461,  86, 122,  71,  67,  50,  29,   9],\n",
       "       [ 26,  18,  55, 545,  95, 105,  67,  52,  23,  14],\n",
       "       [ 28,   6,  50,  74, 676,  22,  36,  82,  22,   4],\n",
       "       [ 11,  10,  28, 228,  75, 516,  21,  85,  16,  10],\n",
       "       [  8,  11,  31,  74,  58,  18, 771,  15,  10,   4],\n",
       "       [ 21,   9,  17,  47,  52,  47,  13, 782,   3,   9],\n",
       "       [107,  45,   6,  15,   7,   5,   5,   5, 788,  17],\n",
       "       [ 64, 131,   7,  16,   7,  11,  10,  20,  47, 687]], dtype=int64)"
      ]
     },
     "execution_count": 34,
     "metadata": {},
     "output_type": "execute_result"
    }
   ],
   "source": [
    "confusion_matrix(y_test,predict)"
   ]
  },
  {
   "cell_type": "code",
   "execution_count": 35,
   "id": "b96f693c",
   "metadata": {},
   "outputs": [
    {
     "data": {
      "text/plain": [
       "<AxesSubplot:>"
      ]
     },
     "execution_count": 35,
     "metadata": {},
     "output_type": "execute_result"
    },
    {
     "data": {
      "image/png": "[encoded data removed]",
      "text/plain": [
       "<Figure size 432x288 with 2 Axes>"
      ]
     },
     "metadata": {
      "needs_background": "light"
     },
     "output_type": "display_data"
    }
   ],
   "source": [
    "sns.heatmap(confusion_matrix(y_test,predict),annot=True)"
   ]
  },
  {
   "cell_type": "code",
   "execution_count": 37,
   "id": "b221738e",
   "metadata": {},
   "outputs": [],
   "source": [
    "my_image = X_test[0]"
   ]
  },
  {
   "cell_type": "code",
   "execution_count": 39,
   "id": "ff0e7069",
   "metadata": {},
   "outputs": [
    {
     "data": {
      "text/plain": [
       "<matplotlib.image.AxesImage at 0x1cb5e8f0550>"
      ]
     },
     "execution_count": 39,
     "metadata": {},
     "output_type": "execute_result"
    },
    {
     "data": {
      "image/png": "[encoded data removed]",
      "text/plain": [
       "<Figure size 432x288 with 1 Axes>"
      ]
     },
     "metadata": {
      "needs_background": "light"
     },
     "output_type": "display_data"
    }
   ],
   "source": [
    "plt.imshow(my_image)"
   ]
  },
  {
   "cell_type": "code",
   "execution_count": 38,
   "id": "d67e04b3",
   "metadata": {},
   "outputs": [
    {
     "data": {
      "text/plain": [
       "array([3], dtype=int64)"
      ]
     },
     "execution_count": 38,
     "metadata": {},
     "output_type": "execute_result"
    }
   ],
   "source": [
    "np.argmax(model.predict(my_image.reshape(1,32,32,3)), axis=-1)"
   ]
  },
  {
   "cell_type": "code",
   "execution_count": null,
   "id": "f7f2f19f",
   "metadata": {},
   "outputs": [],
   "source": []
  }
 ],
 "metadata": {
  "kernelspec": {
   "display_name": "Python 3",
   "language": "python",
   "name": "python3"
  },
  "language_info": {
   "codemirror_mode": {
    "name": "ipython",
    "version": 3
   },
   "file_extension": ".py",
   "mimetype": "text/x-python",
   "name": "python",
   "nbconvert_exporter": "python",
   "pygments_lexer": "ipython3",
   "version": "3.8.8"
  }
 },
 "nbformat": 4,
 "nbformat_minor": 5
}
