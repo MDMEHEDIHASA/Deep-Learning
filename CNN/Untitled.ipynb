{
 "cells": [
  {
   "cell_type": "code",
   "execution_count": 1,
   "id": "5a63a4a3",
   "metadata": {},
   "outputs": [],
   "source": [
    "from torchvision import models"
   ]
  },
  {
   "cell_type": "code",
   "execution_count": 2,
   "id": "1dad65e5",
   "metadata": {},
   "outputs": [
    {
     "data": {
      "text/plain": [
       "['AlexNet',\n",
       " 'DenseNet',\n",
       " 'EfficientNet',\n",
       " 'GoogLeNet',\n",
       " 'GoogLeNetOutputs',\n",
       " 'Inception3',\n",
       " 'InceptionOutputs',\n",
       " 'MNASNet',\n",
       " 'MobileNetV2',\n",
       " 'MobileNetV3',\n",
       " 'RegNet',\n",
       " 'ResNet',\n",
       " 'ShuffleNetV2',\n",
       " 'SqueezeNet',\n",
       " 'VGG',\n",
       " '_GoogLeNetOutputs',\n",
       " '_InceptionOutputs',\n",
       " '__builtins__',\n",
       " '__cached__',\n",
       " '__doc__',\n",
       " '__file__',\n",
       " '__loader__',\n",
       " '__name__',\n",
       " '__package__',\n",
       " '__path__',\n",
       " '__spec__',\n",
       " '_utils',\n",
       " 'alexnet',\n",
       " 'densenet',\n",
       " 'densenet121',\n",
       " 'densenet161',\n",
       " 'densenet169',\n",
       " 'densenet201',\n",
       " 'detection',\n",
       " 'efficientnet',\n",
       " 'efficientnet_b0',\n",
       " 'efficientnet_b1',\n",
       " 'efficientnet_b2',\n",
       " 'efficientnet_b3',\n",
       " 'efficientnet_b4',\n",
       " 'efficientnet_b5',\n",
       " 'efficientnet_b6',\n",
       " 'efficientnet_b7',\n",
       " 'feature_extraction',\n",
       " 'googlenet',\n",
       " 'inception',\n",
       " 'inception_v3',\n",
       " 'mnasnet',\n",
       " 'mnasnet0_5',\n",
       " 'mnasnet0_75',\n",
       " 'mnasnet1_0',\n",
       " 'mnasnet1_3',\n",
       " 'mobilenet',\n",
       " 'mobilenet_v2',\n",
       " 'mobilenet_v3_large',\n",
       " 'mobilenet_v3_small',\n",
       " 'mobilenetv2',\n",
       " 'mobilenetv3',\n",
       " 'quantization',\n",
       " 'regnet',\n",
       " 'regnet_x_16gf',\n",
       " 'regnet_x_1_6gf',\n",
       " 'regnet_x_32gf',\n",
       " 'regnet_x_3_2gf',\n",
       " 'regnet_x_400mf',\n",
       " 'regnet_x_800mf',\n",
       " 'regnet_x_8gf',\n",
       " 'regnet_y_16gf',\n",
       " 'regnet_y_1_6gf',\n",
       " 'regnet_y_32gf',\n",
       " 'regnet_y_3_2gf',\n",
       " 'regnet_y_400mf',\n",
       " 'regnet_y_800mf',\n",
       " 'regnet_y_8gf',\n",
       " 'resnet',\n",
       " 'resnet101',\n",
       " 'resnet152',\n",
       " 'resnet18',\n",
       " 'resnet34',\n",
       " 'resnet50',\n",
       " 'resnext101_32x8d',\n",
       " 'resnext50_32x4d',\n",
       " 'segmentation',\n",
       " 'shufflenet_v2_x0_5',\n",
       " 'shufflenet_v2_x1_0',\n",
       " 'shufflenet_v2_x1_5',\n",
       " 'shufflenet_v2_x2_0',\n",
       " 'shufflenetv2',\n",
       " 'squeezenet',\n",
       " 'squeezenet1_0',\n",
       " 'squeezenet1_1',\n",
       " 'vgg',\n",
       " 'vgg11',\n",
       " 'vgg11_bn',\n",
       " 'vgg13',\n",
       " 'vgg13_bn',\n",
       " 'vgg16',\n",
       " 'vgg16_bn',\n",
       " 'vgg19',\n",
       " 'vgg19_bn',\n",
       " 'video',\n",
       " 'wide_resnet101_2',\n",
       " 'wide_resnet50_2']"
      ]
     },
     "execution_count": 2,
     "metadata": {},
     "output_type": "execute_result"
    }
   ],
   "source": [
    "dir(models)"
   ]
  },
  {
   "cell_type": "code",
   "execution_count": 3,
   "id": "2e8f93e2",
   "metadata": {},
   "outputs": [],
   "source": [
    "vgg16  = models.vgg16()"
   ]
  },
  {
   "cell_type": "code",
   "execution_count": 4,
   "id": "88074ff7",
   "metadata": {},
   "outputs": [
    {
     "data": {
      "text/plain": [
       "VGG(\n",
       "  (features): Sequential(\n",
       "    (0): Conv2d(3, 64, kernel_size=(3, 3), stride=(1, 1), padding=(1, 1))\n",
       "    (1): ReLU(inplace=True)\n",
       "    (2): Conv2d(64, 64, kernel_size=(3, 3), stride=(1, 1), padding=(1, 1))\n",
       "    (3): ReLU(inplace=True)\n",
       "    (4): MaxPool2d(kernel_size=2, stride=2, padding=0, dilation=1, ceil_mode=False)\n",
       "    (5): Conv2d(64, 128, kernel_size=(3, 3), stride=(1, 1), padding=(1, 1))\n",
       "    (6): ReLU(inplace=True)\n",
       "    (7): Conv2d(128, 128, kernel_size=(3, 3), stride=(1, 1), padding=(1, 1))\n",
       "    (8): ReLU(inplace=True)\n",
       "    (9): MaxPool2d(kernel_size=2, stride=2, padding=0, dilation=1, ceil_mode=False)\n",
       "    (10): Conv2d(128, 256, kernel_size=(3, 3), stride=(1, 1), padding=(1, 1))\n",
       "    (11): ReLU(inplace=True)\n",
       "    (12): Conv2d(256, 256, kernel_size=(3, 3), stride=(1, 1), padding=(1, 1))\n",
       "    (13): ReLU(inplace=True)\n",
       "    (14): Conv2d(256, 256, kernel_size=(3, 3), stride=(1, 1), padding=(1, 1))\n",
       "    (15): ReLU(inplace=True)\n",
       "    (16): MaxPool2d(kernel_size=2, stride=2, padding=0, dilation=1, ceil_mode=False)\n",
       "    (17): Conv2d(256, 512, kernel_size=(3, 3), stride=(1, 1), padding=(1, 1))\n",
       "    (18): ReLU(inplace=True)\n",
       "    (19): Conv2d(512, 512, kernel_size=(3, 3), stride=(1, 1), padding=(1, 1))\n",
       "    (20): ReLU(inplace=True)\n",
       "    (21): Conv2d(512, 512, kernel_size=(3, 3), stride=(1, 1), padding=(1, 1))\n",
       "    (22): ReLU(inplace=True)\n",
       "    (23): MaxPool2d(kernel_size=2, stride=2, padding=0, dilation=1, ceil_mode=False)\n",
       "    (24): Conv2d(512, 512, kernel_size=(3, 3), stride=(1, 1), padding=(1, 1))\n",
       "    (25): ReLU(inplace=True)\n",
       "    (26): Conv2d(512, 512, kernel_size=(3, 3), stride=(1, 1), padding=(1, 1))\n",
       "    (27): ReLU(inplace=True)\n",
       "    (28): Conv2d(512, 512, kernel_size=(3, 3), stride=(1, 1), padding=(1, 1))\n",
       "    (29): ReLU(inplace=True)\n",
       "    (30): MaxPool2d(kernel_size=2, stride=2, padding=0, dilation=1, ceil_mode=False)\n",
       "  )\n",
       "  (avgpool): AdaptiveAvgPool2d(output_size=(7, 7))\n",
       "  (classifier): Sequential(\n",
       "    (0): Linear(in_features=25088, out_features=4096, bias=True)\n",
       "    (1): ReLU(inplace=True)\n",
       "    (2): Dropout(p=0.5, inplace=False)\n",
       "    (3): Linear(in_features=4096, out_features=4096, bias=True)\n",
       "    (4): ReLU(inplace=True)\n",
       "    (5): Dropout(p=0.5, inplace=False)\n",
       "    (6): Linear(in_features=4096, out_features=1000, bias=True)\n",
       "  )\n",
       ")"
      ]
     },
     "execution_count": 4,
     "metadata": {},
     "output_type": "execute_result"
    }
   ],
   "source": [
    "vgg16"
   ]
  },
  {
   "cell_type": "code",
   "execution_count": 6,
   "id": "607b08b9",
   "metadata": {},
   "outputs": [
    {
     "data": {
      "text/plain": [
       "tensor([[-0.0070, -0.0156, -0.0083,  ..., -0.0087,  0.0016,  0.0039],\n",
       "        [-0.0121, -0.0012,  0.0057,  ..., -0.0222,  0.0051, -0.0067],\n",
       "        [-0.0119,  0.0047,  0.0057,  ..., -0.0136, -0.0110,  0.0062],\n",
       "        ...,\n",
       "        [-0.0097,  0.0119, -0.0061,  ...,  0.0009, -0.0011,  0.0072],\n",
       "        [ 0.0064, -0.0188, -0.0105,  ..., -0.0120, -0.0216, -0.0068],\n",
       "        [-0.0061,  0.0110,  0.0163,  ..., -0.0015, -0.0232, -0.0187]])"
      ]
     },
     "execution_count": 6,
     "metadata": {},
     "output_type": "execute_result"
    }
   ],
   "source": [
    "vgg16.classifier[0].weight.data"
   ]
  },
  {
   "cell_type": "code",
   "execution_count": 7,
   "id": "ab667316",
   "metadata": {},
   "outputs": [
    {
     "data": {
      "text/plain": [
       "tensor([[[[ 1.4279e-01, -1.1377e-02, -4.1706e-02],\n",
       "          [ 5.9931e-02, -5.3029e-02, -1.2439e-02],\n",
       "          [ 4.0801e-02, -3.8680e-02, -6.1038e-02]],\n",
       "\n",
       "         [[ 2.2805e-02,  2.8821e-02,  3.2384e-02],\n",
       "          [-1.5441e-03, -5.2482e-02, -5.4160e-02],\n",
       "          [-3.5491e-02, -3.5715e-02, -4.8888e-02]],\n",
       "\n",
       "         [[-5.4537e-02,  1.2109e-01,  9.8522e-02],\n",
       "          [ 1.5781e-02, -1.2208e-02,  1.0518e-01],\n",
       "          [-1.3145e-02,  5.1332e-02, -2.9800e-02]]],\n",
       "\n",
       "\n",
       "        [[[ 2.3901e-02, -2.9926e-02,  9.6087e-02],\n",
       "          [ 4.7066e-02, -1.1173e-04,  2.8730e-02],\n",
       "          [-7.2220e-03,  7.6255e-02,  6.2256e-02]],\n",
       "\n",
       "         [[-1.4097e-02, -9.8645e-02,  5.9752e-02],\n",
       "          [ 2.2559e-02, -1.9856e-02,  1.5711e-02],\n",
       "          [-9.9879e-02, -6.8105e-02, -9.7574e-02]],\n",
       "\n",
       "         [[ 7.3681e-02,  7.8309e-02,  3.3107e-02],\n",
       "          [-1.4252e-02,  5.7951e-02,  3.8773e-03],\n",
       "          [-7.9846e-02, -5.8438e-03, -5.0111e-02]]],\n",
       "\n",
       "\n",
       "        [[[ 1.6547e-01, -7.9519e-02, -5.9840e-02],\n",
       "          [ 3.4337e-02,  1.2485e-01, -9.5375e-03],\n",
       "          [ 8.1424e-02,  1.1063e-02,  7.3754e-02]],\n",
       "\n",
       "         [[ 5.2796e-02,  5.1635e-02,  3.3624e-02],\n",
       "          [-3.5578e-02,  4.0627e-02,  5.3020e-02],\n",
       "          [ 2.6133e-02, -2.9766e-02, -1.0316e-01]],\n",
       "\n",
       "         [[-8.2430e-02,  9.3760e-02, -1.2237e-01],\n",
       "          [-4.2871e-03,  7.2864e-02, -2.2076e-02],\n",
       "          [ 6.2867e-02, -2.3879e-02,  8.8883e-03]]],\n",
       "\n",
       "\n",
       "        ...,\n",
       "\n",
       "\n",
       "        [[[ 3.8785e-02,  5.4285e-02,  4.5681e-02],\n",
       "          [ 1.2493e-01,  1.1932e-01, -7.1330e-02],\n",
       "          [ 6.2634e-02,  5.8677e-03, -1.6880e-02]],\n",
       "\n",
       "         [[-7.8528e-02,  4.2170e-03,  9.6431e-02],\n",
       "          [ 1.1710e-02, -3.6889e-02, -4.4068e-02],\n",
       "          [-3.5822e-02, -3.6768e-02, -2.0483e-02]],\n",
       "\n",
       "         [[-6.5161e-02, -1.1224e-02,  7.2856e-02],\n",
       "          [ 9.0213e-02, -2.0598e-01, -3.6045e-04],\n",
       "          [ 3.8162e-03,  1.5144e-01,  8.7135e-02]]],\n",
       "\n",
       "\n",
       "        [[[ 7.6234e-02,  4.3810e-03, -2.0460e-02],\n",
       "          [-3.1740e-02, -1.3631e-02, -1.0779e-02],\n",
       "          [ 6.6925e-02, -8.7943e-02, -4.7304e-02]],\n",
       "\n",
       "         [[-1.3510e-02,  8.3290e-03,  9.4229e-02],\n",
       "          [-6.2590e-02, -7.6666e-02,  9.3229e-02],\n",
       "          [ 6.9135e-02,  7.7054e-03, -7.0701e-02]],\n",
       "\n",
       "         [[ 2.2797e-03,  7.0587e-04, -1.4191e-02],\n",
       "          [ 3.1826e-02, -1.2238e-04, -6.1987e-03],\n",
       "          [-8.9927e-02, -4.5621e-02,  1.8152e-02]]],\n",
       "\n",
       "\n",
       "        [[[-5.4306e-02,  5.6392e-02, -4.3628e-02],\n",
       "          [-9.8370e-02, -4.5810e-02, -1.2706e-01],\n",
       "          [-6.8932e-02, -3.9588e-02,  1.3426e-02]],\n",
       "\n",
       "         [[-7.1710e-02,  4.8651e-03,  3.6043e-02],\n",
       "          [-3.1055e-02,  2.2857e-02,  9.0033e-02],\n",
       "          [ 1.7464e-02, -4.1821e-02,  3.5511e-03]],\n",
       "\n",
       "         [[-7.3390e-02, -7.6466e-02,  2.5483e-02],\n",
       "          [-6.7352e-02, -1.5985e-02,  1.0347e-01],\n",
       "          [ 1.3530e-03, -4.0007e-02,  3.9657e-02]]]])"
      ]
     },
     "execution_count": 7,
     "metadata": {},
     "output_type": "execute_result"
    }
   ],
   "source": [
    "vgg16.features[0].weight.data"
   ]
  },
  {
   "cell_type": "code",
   "execution_count": null,
   "id": "21a0bd27",
   "metadata": {},
   "outputs": [],
   "source": [
    "#vgg16 = models.vgg16(pretrained=True)"
   ]
  },
  {
   "cell_type": "code",
   "execution_count": 9,
   "id": "f5b3bd33",
   "metadata": {},
   "outputs": [],
   "source": [
    "import matplotlib.pyplot as plt"
   ]
  },
  {
   "cell_type": "code",
   "execution_count": 11,
   "id": "1e6f8f89",
   "metadata": {},
   "outputs": [],
   "source": [
    "import torch"
   ]
  },
  {
   "cell_type": "code",
   "execution_count": 15,
   "id": "84bfb2b9",
   "metadata": {},
   "outputs": [
    {
     "data": {
      "text/plain": [
       "<BarContainer object of 50 artists>"
      ]
     },
     "execution_count": 15,
     "metadata": {},
     "output_type": "execute_result"
    },
    {
     "data": {
      "image/png": "[encoded data removed]",
      "text/plain": [
       "<Figure size 432x288 with 1 Axes>"
      ]
     },
     "metadata": {
      "needs_background": "light"
     },
     "output_type": "display_data"
    }
   ],
   "source": [
    "hist  = torch.histc(vgg16.features[0].weight.data,50)\n",
    "plt.bar(range(50),hist)"
   ]
  },
  {
   "cell_type": "code",
   "execution_count": 17,
   "id": "160ba8a9",
   "metadata": {},
   "outputs": [],
   "source": [
    "from torchsummary import summary"
   ]
  },
  {
   "cell_type": "code",
   "execution_count": 18,
   "id": "1988770a",
   "metadata": {},
   "outputs": [
    {
     "name": "stdout",
     "output_type": "stream",
     "text": [
      "----------------------------------------------------------------\n",
      "        Layer (type)               Output Shape         Param #\n",
      "================================================================\n",
      "            Conv2d-1         [16, 64, 224, 224]           1,792\n",
      "              ReLU-2         [16, 64, 224, 224]               0\n",
      "            Conv2d-3         [16, 64, 224, 224]          36,928\n",
      "              ReLU-4         [16, 64, 224, 224]               0\n",
      "         MaxPool2d-5         [16, 64, 112, 112]               0\n",
      "            Conv2d-6        [16, 128, 112, 112]          73,856\n",
      "              ReLU-7        [16, 128, 112, 112]               0\n",
      "            Conv2d-8        [16, 128, 112, 112]         147,584\n",
      "              ReLU-9        [16, 128, 112, 112]               0\n",
      "        MaxPool2d-10          [16, 128, 56, 56]               0\n",
      "           Conv2d-11          [16, 256, 56, 56]         295,168\n",
      "             ReLU-12          [16, 256, 56, 56]               0\n",
      "           Conv2d-13          [16, 256, 56, 56]         590,080\n",
      "             ReLU-14          [16, 256, 56, 56]               0\n",
      "           Conv2d-15          [16, 256, 56, 56]         590,080\n",
      "             ReLU-16          [16, 256, 56, 56]               0\n",
      "        MaxPool2d-17          [16, 256, 28, 28]               0\n",
      "           Conv2d-18          [16, 512, 28, 28]       1,180,160\n",
      "             ReLU-19          [16, 512, 28, 28]               0\n",
      "           Conv2d-20          [16, 512, 28, 28]       2,359,808\n",
      "             ReLU-21          [16, 512, 28, 28]               0\n",
      "           Conv2d-22          [16, 512, 28, 28]       2,359,808\n",
      "             ReLU-23          [16, 512, 28, 28]               0\n",
      "        MaxPool2d-24          [16, 512, 14, 14]               0\n",
      "           Conv2d-25          [16, 512, 14, 14]       2,359,808\n",
      "             ReLU-26          [16, 512, 14, 14]               0\n",
      "           Conv2d-27          [16, 512, 14, 14]       2,359,808\n",
      "             ReLU-28          [16, 512, 14, 14]               0\n",
      "           Conv2d-29          [16, 512, 14, 14]       2,359,808\n",
      "             ReLU-30          [16, 512, 14, 14]               0\n",
      "        MaxPool2d-31            [16, 512, 7, 7]               0\n",
      "AdaptiveAvgPool2d-32            [16, 512, 7, 7]               0\n",
      "           Linear-33                 [16, 4096]     102,764,544\n",
      "             ReLU-34                 [16, 4096]               0\n",
      "          Dropout-35                 [16, 4096]               0\n",
      "           Linear-36                 [16, 4096]      16,781,312\n",
      "             ReLU-37                 [16, 4096]               0\n",
      "          Dropout-38                 [16, 4096]               0\n",
      "           Linear-39                 [16, 1000]       4,097,000\n",
      "================================================================\n",
      "Total params: 138,357,544\n",
      "Trainable params: 138,357,544\n",
      "Non-trainable params: 0\n",
      "----------------------------------------------------------------\n",
      "Input size (MB): 9.19\n",
      "Forward/backward pass size (MB): 3500.50\n",
      "Params size (MB): 527.79\n",
      "Estimated Total Size (MB): 4037.48\n",
      "----------------------------------------------------------------\n"
     ]
    }
   ],
   "source": [
    "summary(vgg16,(3,224,224),16,'cpu')"
   ]
  },
  {
   "cell_type": "code",
   "execution_count": 19,
   "id": "522bc043",
   "metadata": {},
   "outputs": [],
   "source": [
    "alexnet = models.alexnet()"
   ]
  },
  {
   "cell_type": "code",
   "execution_count": 20,
   "id": "30a452ae",
   "metadata": {},
   "outputs": [
    {
     "data": {
      "text/plain": [
       "AlexNet(\n",
       "  (features): Sequential(\n",
       "    (0): Conv2d(3, 64, kernel_size=(11, 11), stride=(4, 4), padding=(2, 2))\n",
       "    (1): ReLU(inplace=True)\n",
       "    (2): MaxPool2d(kernel_size=3, stride=2, padding=0, dilation=1, ceil_mode=False)\n",
       "    (3): Conv2d(64, 192, kernel_size=(5, 5), stride=(1, 1), padding=(2, 2))\n",
       "    (4): ReLU(inplace=True)\n",
       "    (5): MaxPool2d(kernel_size=3, stride=2, padding=0, dilation=1, ceil_mode=False)\n",
       "    (6): Conv2d(192, 384, kernel_size=(3, 3), stride=(1, 1), padding=(1, 1))\n",
       "    (7): ReLU(inplace=True)\n",
       "    (8): Conv2d(384, 256, kernel_size=(3, 3), stride=(1, 1), padding=(1, 1))\n",
       "    (9): ReLU(inplace=True)\n",
       "    (10): Conv2d(256, 256, kernel_size=(3, 3), stride=(1, 1), padding=(1, 1))\n",
       "    (11): ReLU(inplace=True)\n",
       "    (12): MaxPool2d(kernel_size=3, stride=2, padding=0, dilation=1, ceil_mode=False)\n",
       "  )\n",
       "  (avgpool): AdaptiveAvgPool2d(output_size=(6, 6))\n",
       "  (classifier): Sequential(\n",
       "    (0): Dropout(p=0.5, inplace=False)\n",
       "    (1): Linear(in_features=9216, out_features=4096, bias=True)\n",
       "    (2): ReLU(inplace=True)\n",
       "    (3): Dropout(p=0.5, inplace=False)\n",
       "    (4): Linear(in_features=4096, out_features=4096, bias=True)\n",
       "    (5): ReLU(inplace=True)\n",
       "    (6): Linear(in_features=4096, out_features=1000, bias=True)\n",
       "  )\n",
       ")"
      ]
     },
     "execution_count": 20,
     "metadata": {},
     "output_type": "execute_result"
    }
   ],
   "source": [
    "alexnet"
   ]
  },
  {
   "cell_type": "code",
   "execution_count": 23,
   "id": "8c8d129d",
   "metadata": {},
   "outputs": [
    {
     "name": "stdout",
     "output_type": "stream",
     "text": [
      "----------------------------------------------------------------\n",
      "        Layer (type)               Output Shape         Param #\n",
      "================================================================\n",
      "            Conv2d-1           [16, 64, 55, 55]          23,296\n",
      "              ReLU-2           [16, 64, 55, 55]               0\n",
      "         MaxPool2d-3           [16, 64, 27, 27]               0\n",
      "            Conv2d-4          [16, 192, 27, 27]         307,392\n",
      "              ReLU-5          [16, 192, 27, 27]               0\n",
      "         MaxPool2d-6          [16, 192, 13, 13]               0\n",
      "            Conv2d-7          [16, 384, 13, 13]         663,936\n",
      "              ReLU-8          [16, 384, 13, 13]               0\n",
      "            Conv2d-9          [16, 256, 13, 13]         884,992\n",
      "             ReLU-10          [16, 256, 13, 13]               0\n",
      "           Conv2d-11          [16, 256, 13, 13]         590,080\n",
      "             ReLU-12          [16, 256, 13, 13]               0\n",
      "        MaxPool2d-13            [16, 256, 6, 6]               0\n",
      "AdaptiveAvgPool2d-14            [16, 256, 6, 6]               0\n",
      "          Dropout-15                 [16, 9216]               0\n",
      "           Linear-16                 [16, 4096]      37,752,832\n",
      "             ReLU-17                 [16, 4096]               0\n",
      "          Dropout-18                 [16, 4096]               0\n",
      "           Linear-19                 [16, 4096]      16,781,312\n",
      "             ReLU-20                 [16, 4096]               0\n",
      "           Linear-21                 [16, 1000]       4,097,000\n",
      "================================================================\n",
      "Total params: 61,100,840\n",
      "Trainable params: 61,100,840\n",
      "Non-trainable params: 0\n",
      "----------------------------------------------------------------\n",
      "Input size (MB): 9.19\n",
      "Forward/backward pass size (MB): 134.06\n",
      "Params size (MB): 233.08\n",
      "Estimated Total Size (MB): 376.33\n",
      "----------------------------------------------------------------\n"
     ]
    }
   ],
   "source": [
    "summary(alexnet,(3,224,224),16,'cpu')"
   ]
  },
  {
   "cell_type": "code",
   "execution_count": null,
   "id": "a2a8b47d",
   "metadata": {},
   "outputs": [],
   "source": []
  }
 ],
 "metadata": {
  "kernelspec": {
   "display_name": "Python 3",
   "language": "python",
   "name": "python3"
  },
  "language_info": {
   "codemirror_mode": {
    "name": "ipython",
    "version": 3
   },
   "file_extension": ".py",
   "mimetype": "text/x-python",
   "name": "python",
   "nbconvert_exporter": "python",
   "pygments_lexer": "ipython3",
   "version": "3.8.8"
  }
 },
 "nbformat": 4,
 "nbformat_minor": 5
}
